{
  "cells": [
    {
      "cell_type": "markdown",
      "source": [
        "Dataset from: https://www.kaggle.com/datasets/marlesson/myanimelist-dataset-animes-profiles-reviews"
      ],
      "metadata": {
        "id": "EvER511vczGt"
      }
    },
    {
      "cell_type": "code",
      "execution_count": 4,
      "metadata": {
        "id": "y5FMtV79_24u"
      },
      "outputs": [],
      "source": [
        "import gzip\n",
        "from collections import defaultdict\n",
        "import math\n",
        "import scipy.optimize\n",
        "from sklearn import svm\n",
        "import numpy\n",
        "import string\n",
        "import random\n",
        "from sklearn import linear_model\n",
        "import pandas as pd\n",
        "import matplotlib.pyplot as plt\n",
        "import numpy as np\n",
        "import seaborn as sns\n",
        "import os"
      ]
    },
    {
      "cell_type": "code",
      "source": [
        "import kagglehub\n",
        "\n",
        "# Download latest version\n",
        "path = kagglehub.dataset_download(\"marlesson/myanimelist-dataset-animes-profiles-reviews\")\n",
        "\n",
        "print(\"Path to dataset files:\", path)"
      ],
      "metadata": {
        "colab": {
          "base_uri": "https://localhost:8080/"
        },
        "id": "Yna-NJlMhK1x",
        "outputId": "7227c393-0b1d-45ff-81c9-908854cc347e"
      },
      "execution_count": 2,
      "outputs": [
        {
          "output_type": "stream",
          "name": "stdout",
          "text": [
            "Downloading from https://www.kaggle.com/api/v1/datasets/download/marlesson/myanimelist-dataset-animes-profiles-reviews?dataset_version_number=1...\n"
          ]
        },
        {
          "output_type": "stream",
          "name": "stderr",
          "text": [
            "100%|██████████| 217M/217M [00:01<00:00, 115MB/s]"
          ]
        },
        {
          "output_type": "stream",
          "name": "stdout",
          "text": [
            "Extracting files...\n"
          ]
        },
        {
          "output_type": "stream",
          "name": "stderr",
          "text": [
            "\n"
          ]
        },
        {
          "output_type": "stream",
          "name": "stdout",
          "text": [
            "Path to dataset files: /root/.cache/kagglehub/datasets/marlesson/myanimelist-dataset-animes-profiles-reviews/versions/1\n"
          ]
        }
      ]
    },
    {
      "cell_type": "code",
      "execution_count": 5,
      "metadata": {
        "id": "q_2EKiKDp42Y"
      },
      "outputs": [],
      "source": [
        "dataset_df = pd.read_csv(os.path.join(path, \"reviews.csv\"))"
      ]
    },
    {
      "cell_type": "code",
      "execution_count": 6,
      "metadata": {
        "colab": {
          "base_uri": "https://localhost:8080/",
          "height": 206
        },
        "id": "UyLOxFk7qT6T",
        "outputId": "52e540de-7d16-412a-f2fa-959c7c3031fb"
      },
      "outputs": [
        {
          "output_type": "execute_result",
          "data": {
            "text/plain": [
              "      uid          profile  anime_uid  \\\n",
              "0  255938   DesolatePsyche      34096   \n",
              "1  259117        baekbeans      34599   \n",
              "2  253664             skrn      28891   \n",
              "3    8254     edgewalker00       2904   \n",
              "4  291149  aManOfCulture99       4181   \n",
              "\n",
              "                                                text  score  \\\n",
              "0  \\n           \\n         \\n           \\n       ...      8   \n",
              "1  \\n           \\n         \\n           \\n       ...     10   \n",
              "2  \\n           \\n         \\n           \\n       ...      7   \n",
              "3  \\n           \\n         \\n           \\n       ...      9   \n",
              "4  \\n           \\n         \\n           \\n       ...     10   \n",
              "\n",
              "                                              scores  \\\n",
              "0  {'Overall': '8', 'Story': '8', 'Animation': '8...   \n",
              "1  {'Overall': '10', 'Story': '10', 'Animation': ...   \n",
              "2  {'Overall': '7', 'Story': '7', 'Animation': '9...   \n",
              "3  {'Overall': '9', 'Story': '9', 'Animation': '9...   \n",
              "4  {'Overall': '10', 'Story': '10', 'Animation': ...   \n",
              "\n",
              "                                            link  \n",
              "0  https://myanimelist.net/reviews.php?id=255938  \n",
              "1  https://myanimelist.net/reviews.php?id=259117  \n",
              "2  https://myanimelist.net/reviews.php?id=253664  \n",
              "3    https://myanimelist.net/reviews.php?id=8254  \n",
              "4  https://myanimelist.net/reviews.php?id=291149  "
            ],
            "text/html": [
              "\n",
              "  <div id=\"df-a9b4886f-5383-469c-89ef-60d295383b3c\" class=\"colab-df-container\">\n",
              "    <div>\n",
              "<style scoped>\n",
              "    .dataframe tbody tr th:only-of-type {\n",
              "        vertical-align: middle;\n",
              "    }\n",
              "\n",
              "    .dataframe tbody tr th {\n",
              "        vertical-align: top;\n",
              "    }\n",
              "\n",
              "    .dataframe thead th {\n",
              "        text-align: right;\n",
              "    }\n",
              "</style>\n",
              "<table border=\"1\" class=\"dataframe\">\n",
              "  <thead>\n",
              "    <tr style=\"text-align: right;\">\n",
              "      <th></th>\n",
              "      <th>uid</th>\n",
              "      <th>profile</th>\n",
              "      <th>anime_uid</th>\n",
              "      <th>text</th>\n",
              "      <th>score</th>\n",
              "      <th>scores</th>\n",
              "      <th>link</th>\n",
              "    </tr>\n",
              "  </thead>\n",
              "  <tbody>\n",
              "    <tr>\n",
              "      <th>0</th>\n",
              "      <td>255938</td>\n",
              "      <td>DesolatePsyche</td>\n",
              "      <td>34096</td>\n",
              "      <td>\\n           \\n         \\n           \\n       ...</td>\n",
              "      <td>8</td>\n",
              "      <td>{'Overall': '8', 'Story': '8', 'Animation': '8...</td>\n",
              "      <td>https://myanimelist.net/reviews.php?id=255938</td>\n",
              "    </tr>\n",
              "    <tr>\n",
              "      <th>1</th>\n",
              "      <td>259117</td>\n",
              "      <td>baekbeans</td>\n",
              "      <td>34599</td>\n",
              "      <td>\\n           \\n         \\n           \\n       ...</td>\n",
              "      <td>10</td>\n",
              "      <td>{'Overall': '10', 'Story': '10', 'Animation': ...</td>\n",
              "      <td>https://myanimelist.net/reviews.php?id=259117</td>\n",
              "    </tr>\n",
              "    <tr>\n",
              "      <th>2</th>\n",
              "      <td>253664</td>\n",
              "      <td>skrn</td>\n",
              "      <td>28891</td>\n",
              "      <td>\\n           \\n         \\n           \\n       ...</td>\n",
              "      <td>7</td>\n",
              "      <td>{'Overall': '7', 'Story': '7', 'Animation': '9...</td>\n",
              "      <td>https://myanimelist.net/reviews.php?id=253664</td>\n",
              "    </tr>\n",
              "    <tr>\n",
              "      <th>3</th>\n",
              "      <td>8254</td>\n",
              "      <td>edgewalker00</td>\n",
              "      <td>2904</td>\n",
              "      <td>\\n           \\n         \\n           \\n       ...</td>\n",
              "      <td>9</td>\n",
              "      <td>{'Overall': '9', 'Story': '9', 'Animation': '9...</td>\n",
              "      <td>https://myanimelist.net/reviews.php?id=8254</td>\n",
              "    </tr>\n",
              "    <tr>\n",
              "      <th>4</th>\n",
              "      <td>291149</td>\n",
              "      <td>aManOfCulture99</td>\n",
              "      <td>4181</td>\n",
              "      <td>\\n           \\n         \\n           \\n       ...</td>\n",
              "      <td>10</td>\n",
              "      <td>{'Overall': '10', 'Story': '10', 'Animation': ...</td>\n",
              "      <td>https://myanimelist.net/reviews.php?id=291149</td>\n",
              "    </tr>\n",
              "  </tbody>\n",
              "</table>\n",
              "</div>\n",
              "    <div class=\"colab-df-buttons\">\n",
              "\n",
              "  <div class=\"colab-df-container\">\n",
              "    <button class=\"colab-df-convert\" onclick=\"convertToInteractive('df-a9b4886f-5383-469c-89ef-60d295383b3c')\"\n",
              "            title=\"Convert this dataframe to an interactive table.\"\n",
              "            style=\"display:none;\">\n",
              "\n",
              "  <svg xmlns=\"http://www.w3.org/2000/svg\" height=\"24px\" viewBox=\"0 -960 960 960\">\n",
              "    <path d=\"M120-120v-720h720v720H120Zm60-500h600v-160H180v160Zm220 220h160v-160H400v160Zm0 220h160v-160H400v160ZM180-400h160v-160H180v160Zm440 0h160v-160H620v160ZM180-180h160v-160H180v160Zm440 0h160v-160H620v160Z\"/>\n",
              "  </svg>\n",
              "    </button>\n",
              "\n",
              "  <style>\n",
              "    .colab-df-container {\n",
              "      display:flex;\n",
              "      gap: 12px;\n",
              "    }\n",
              "\n",
              "    .colab-df-convert {\n",
              "      background-color: #E8F0FE;\n",
              "      border: none;\n",
              "      border-radius: 50%;\n",
              "      cursor: pointer;\n",
              "      display: none;\n",
              "      fill: #1967D2;\n",
              "      height: 32px;\n",
              "      padding: 0 0 0 0;\n",
              "      width: 32px;\n",
              "    }\n",
              "\n",
              "    .colab-df-convert:hover {\n",
              "      background-color: #E2EBFA;\n",
              "      box-shadow: 0px 1px 2px rgba(60, 64, 67, 0.3), 0px 1px 3px 1px rgba(60, 64, 67, 0.15);\n",
              "      fill: #174EA6;\n",
              "    }\n",
              "\n",
              "    .colab-df-buttons div {\n",
              "      margin-bottom: 4px;\n",
              "    }\n",
              "\n",
              "    [theme=dark] .colab-df-convert {\n",
              "      background-color: #3B4455;\n",
              "      fill: #D2E3FC;\n",
              "    }\n",
              "\n",
              "    [theme=dark] .colab-df-convert:hover {\n",
              "      background-color: #434B5C;\n",
              "      box-shadow: 0px 1px 3px 1px rgba(0, 0, 0, 0.15);\n",
              "      filter: drop-shadow(0px 1px 2px rgba(0, 0, 0, 0.3));\n",
              "      fill: #FFFFFF;\n",
              "    }\n",
              "  </style>\n",
              "\n",
              "    <script>\n",
              "      const buttonEl =\n",
              "        document.querySelector('#df-a9b4886f-5383-469c-89ef-60d295383b3c button.colab-df-convert');\n",
              "      buttonEl.style.display =\n",
              "        google.colab.kernel.accessAllowed ? 'block' : 'none';\n",
              "\n",
              "      async function convertToInteractive(key) {\n",
              "        const element = document.querySelector('#df-a9b4886f-5383-469c-89ef-60d295383b3c');\n",
              "        const dataTable =\n",
              "          await google.colab.kernel.invokeFunction('convertToInteractive',\n",
              "                                                    [key], {});\n",
              "        if (!dataTable) return;\n",
              "\n",
              "        const docLinkHtml = 'Like what you see? Visit the ' +\n",
              "          '<a target=\"_blank\" href=https://colab.research.google.com/notebooks/data_table.ipynb>data table notebook</a>'\n",
              "          + ' to learn more about interactive tables.';\n",
              "        element.innerHTML = '';\n",
              "        dataTable['output_type'] = 'display_data';\n",
              "        await google.colab.output.renderOutput(dataTable, element);\n",
              "        const docLink = document.createElement('div');\n",
              "        docLink.innerHTML = docLinkHtml;\n",
              "        element.appendChild(docLink);\n",
              "      }\n",
              "    </script>\n",
              "  </div>\n",
              "\n",
              "\n",
              "<div id=\"df-2369b214-0009-4316-af27-49b850c2175a\">\n",
              "  <button class=\"colab-df-quickchart\" onclick=\"quickchart('df-2369b214-0009-4316-af27-49b850c2175a')\"\n",
              "            title=\"Suggest charts\"\n",
              "            style=\"display:none;\">\n",
              "\n",
              "<svg xmlns=\"http://www.w3.org/2000/svg\" height=\"24px\"viewBox=\"0 0 24 24\"\n",
              "     width=\"24px\">\n",
              "    <g>\n",
              "        <path d=\"M19 3H5c-1.1 0-2 .9-2 2v14c0 1.1.9 2 2 2h14c1.1 0 2-.9 2-2V5c0-1.1-.9-2-2-2zM9 17H7v-7h2v7zm4 0h-2V7h2v10zm4 0h-2v-4h2v4z\"/>\n",
              "    </g>\n",
              "</svg>\n",
              "  </button>\n",
              "\n",
              "<style>\n",
              "  .colab-df-quickchart {\n",
              "      --bg-color: #E8F0FE;\n",
              "      --fill-color: #1967D2;\n",
              "      --hover-bg-color: #E2EBFA;\n",
              "      --hover-fill-color: #174EA6;\n",
              "      --disabled-fill-color: #AAA;\n",
              "      --disabled-bg-color: #DDD;\n",
              "  }\n",
              "\n",
              "  [theme=dark] .colab-df-quickchart {\n",
              "      --bg-color: #3B4455;\n",
              "      --fill-color: #D2E3FC;\n",
              "      --hover-bg-color: #434B5C;\n",
              "      --hover-fill-color: #FFFFFF;\n",
              "      --disabled-bg-color: #3B4455;\n",
              "      --disabled-fill-color: #666;\n",
              "  }\n",
              "\n",
              "  .colab-df-quickchart {\n",
              "    background-color: var(--bg-color);\n",
              "    border: none;\n",
              "    border-radius: 50%;\n",
              "    cursor: pointer;\n",
              "    display: none;\n",
              "    fill: var(--fill-color);\n",
              "    height: 32px;\n",
              "    padding: 0;\n",
              "    width: 32px;\n",
              "  }\n",
              "\n",
              "  .colab-df-quickchart:hover {\n",
              "    background-color: var(--hover-bg-color);\n",
              "    box-shadow: 0 1px 2px rgba(60, 64, 67, 0.3), 0 1px 3px 1px rgba(60, 64, 67, 0.15);\n",
              "    fill: var(--button-hover-fill-color);\n",
              "  }\n",
              "\n",
              "  .colab-df-quickchart-complete:disabled,\n",
              "  .colab-df-quickchart-complete:disabled:hover {\n",
              "    background-color: var(--disabled-bg-color);\n",
              "    fill: var(--disabled-fill-color);\n",
              "    box-shadow: none;\n",
              "  }\n",
              "\n",
              "  .colab-df-spinner {\n",
              "    border: 2px solid var(--fill-color);\n",
              "    border-color: transparent;\n",
              "    border-bottom-color: var(--fill-color);\n",
              "    animation:\n",
              "      spin 1s steps(1) infinite;\n",
              "  }\n",
              "\n",
              "  @keyframes spin {\n",
              "    0% {\n",
              "      border-color: transparent;\n",
              "      border-bottom-color: var(--fill-color);\n",
              "      border-left-color: var(--fill-color);\n",
              "    }\n",
              "    20% {\n",
              "      border-color: transparent;\n",
              "      border-left-color: var(--fill-color);\n",
              "      border-top-color: var(--fill-color);\n",
              "    }\n",
              "    30% {\n",
              "      border-color: transparent;\n",
              "      border-left-color: var(--fill-color);\n",
              "      border-top-color: var(--fill-color);\n",
              "      border-right-color: var(--fill-color);\n",
              "    }\n",
              "    40% {\n",
              "      border-color: transparent;\n",
              "      border-right-color: var(--fill-color);\n",
              "      border-top-color: var(--fill-color);\n",
              "    }\n",
              "    60% {\n",
              "      border-color: transparent;\n",
              "      border-right-color: var(--fill-color);\n",
              "    }\n",
              "    80% {\n",
              "      border-color: transparent;\n",
              "      border-right-color: var(--fill-color);\n",
              "      border-bottom-color: var(--fill-color);\n",
              "    }\n",
              "    90% {\n",
              "      border-color: transparent;\n",
              "      border-bottom-color: var(--fill-color);\n",
              "    }\n",
              "  }\n",
              "</style>\n",
              "\n",
              "  <script>\n",
              "    async function quickchart(key) {\n",
              "      const quickchartButtonEl =\n",
              "        document.querySelector('#' + key + ' button');\n",
              "      quickchartButtonEl.disabled = true;  // To prevent multiple clicks.\n",
              "      quickchartButtonEl.classList.add('colab-df-spinner');\n",
              "      try {\n",
              "        const charts = await google.colab.kernel.invokeFunction(\n",
              "            'suggestCharts', [key], {});\n",
              "      } catch (error) {\n",
              "        console.error('Error during call to suggestCharts:', error);\n",
              "      }\n",
              "      quickchartButtonEl.classList.remove('colab-df-spinner');\n",
              "      quickchartButtonEl.classList.add('colab-df-quickchart-complete');\n",
              "    }\n",
              "    (() => {\n",
              "      let quickchartButtonEl =\n",
              "        document.querySelector('#df-2369b214-0009-4316-af27-49b850c2175a button');\n",
              "      quickchartButtonEl.style.display =\n",
              "        google.colab.kernel.accessAllowed ? 'block' : 'none';\n",
              "    })();\n",
              "  </script>\n",
              "</div>\n",
              "\n",
              "    </div>\n",
              "  </div>\n"
            ],
            "application/vnd.google.colaboratory.intrinsic+json": {
              "type": "dataframe",
              "variable_name": "dataset_df"
            }
          },
          "metadata": {},
          "execution_count": 6
        }
      ],
      "source": [
        "dataset_df.head()"
      ]
    },
    {
      "cell_type": "code",
      "execution_count": 7,
      "metadata": {
        "colab": {
          "base_uri": "https://localhost:8080/"
        },
        "id": "dm2X2azvQNhs",
        "outputId": "e8c93ded-4aef-42d0-9f92-193119fb69e6"
      },
      "outputs": [
        {
          "output_type": "execute_result",
          "data": {
            "text/plain": [
              "(192112, 7)"
            ]
          },
          "metadata": {},
          "execution_count": 7
        }
      ],
      "source": [
        "dataset_df.shape"
      ]
    },
    {
      "cell_type": "code",
      "execution_count": null,
      "metadata": {
        "id": "rHYCBw5UCEXM"
      },
      "outputs": [],
      "source": [
        "# remove unused featuress\n",
        "dataset_df.drop(columns=['uid', 'scores', 'link'], inplace=True)\n",
        "\n",
        "#drop null values\n",
        "dataset_df.dropna(subset=['profile', 'anime_uid', 'text', 'score'], inplace=True)"
      ]
    },
    {
      "cell_type": "code",
      "execution_count": null,
      "metadata": {
        "id": "-lK7KfqGrLjx"
      },
      "outputs": [],
      "source": [
        "import re\n",
        "\n",
        "# Function to clean review text\n",
        "def clean_review(text):\n",
        "    # Remove the beginning pattern\n",
        "    text = re.sub(r'^\\s*more pics.*?Enjoyment\\s*\\d+\\s*', '', text, flags=re.DOTALL)\n",
        "    # Remove the trailing pattern\n",
        "    text = re.sub(r'\\n\\n\\s*Helpful\\s*$', '', text, flags=re.DOTALL)\n",
        "    return text.strip()\n",
        "\n",
        "# Apply to the review column\n",
        "dataset_df['text'] = dataset_df['text'].apply(clean_review)"
      ]
    },
    {
      "cell_type": "code",
      "execution_count": null,
      "metadata": {
        "colab": {
          "base_uri": "https://localhost:8080/"
        },
        "id": "Ktdch21DebTo",
        "outputId": "133b0ec5-03af-44ad-9c85-c1a3025b421a"
      },
      "outputs": [
        {
          "name": "stdout",
          "output_type": "stream",
          "text": [
            "81727\n"
          ]
        }
      ],
      "source": [
        "from datetime import datetime\n",
        "import pandas as pd\n",
        "\n",
        "# Load the dataset\n",
        "profiles = pd.read_csv(os.path.join(path, \"profiles.csv\"))\n",
        "print(len(profiles))\n",
        "profiles.drop('link', axis=1, inplace=True)\n",
        "\n",
        "# Ensure that 'birthday' and 'gender' are not missing (optional)\n",
        "profiles = profiles.dropna(subset=['birthday', 'gender'])\n",
        "\n",
        "# Use pandas' factorize to convert 'username' into numerical IDs\n",
        "profiles['user_id'] = pd.factorize(profiles['profile'])[0]\n",
        "profiles.drop(columns=['profile'], inplace=True)\n",
        "\n",
        "# Convert to list of dictionaries for further processing\n",
        "profiles = profiles.to_dict(orient='records')\n",
        "\n",
        "# Parse birthday and calculate age\n",
        "current_date = datetime.now()\n",
        "\n",
        "for profile in profiles:\n",
        "    try:\n",
        "        # Convert birthday to datetime and calculate age\n",
        "        birthday = datetime.strptime(profile['birthday'], '%b %d, %Y')\n",
        "        profile['age'] = current_date.year - birthday.year - \\\n",
        "                         ((current_date.month, current_date.day) < (birthday.month, birthday.day))\n",
        "    except (ValueError, KeyError, TypeError):\n",
        "        # Handle missing or malformed birthday values\n",
        "        profile['age'] = None"
      ]
    },
    {
      "cell_type": "code",
      "execution_count": null,
      "metadata": {
        "colab": {
          "base_uri": "https://localhost:8080/"
        },
        "id": "tUNCGWiU0IyY",
        "outputId": "d4ece8b7-6319-4805-8c21-6036e9d00433"
      },
      "outputs": [
        {
          "data": {
            "text/plain": [
              "{'gender': 'Male',\n",
              " 'birthday': 'Oct 2, 1994',\n",
              " 'favorites_anime': \"['33352', '25013', '5530', '33674', '1482', '269', '18245', '2904', '27899', '17074', '12291', '226', '28851', '8525', '6594', '4981', '1698', '457', '235', '34618']\",\n",
              " 'user_id': 0,\n",
              " 'age': 30}"
            ]
          },
          "execution_count": 11,
          "metadata": {},
          "output_type": "execute_result"
        }
      ],
      "source": [
        "profiles[0]"
      ]
    },
    {
      "cell_type": "code",
      "execution_count": null,
      "metadata": {
        "colab": {
          "base_uri": "https://localhost:8080/"
        },
        "id": "YqR8_nDbRGYb",
        "outputId": "21aa7674-7b8a-495e-807e-8670468b1462"
      },
      "outputs": [
        {
          "data": {
            "text/plain": [
              "43636"
            ]
          },
          "execution_count": 12,
          "metadata": {},
          "output_type": "execute_result"
        }
      ],
      "source": [
        "len(profiles)"
      ]
    },
    {
      "cell_type": "code",
      "execution_count": null,
      "metadata": {
        "id": "D0fjpkWTU8Oq"
      },
      "outputs": [],
      "source": [
        "# Use pandas' factorize to convert 'username' into numerical IDs\n",
        "dataset_df['user_id'] = pd.factorize(dataset_df['profile'])[0]\n",
        "dataset_df.drop(columns=['profile'], inplace=True)"
      ]
    },
    {
      "cell_type": "code",
      "execution_count": null,
      "metadata": {
        "id": "HYEVLCM8U-Qg"
      },
      "outputs": [],
      "source": [
        "# Convert dataframe into a list of dictionaries for indexing\n",
        "dataset = dataset_df.to_dict(orient='records')"
      ]
    },
    {
      "cell_type": "code",
      "execution_count": null,
      "metadata": {
        "colab": {
          "base_uri": "https://localhost:8080/"
        },
        "id": "OXD6PCwjWJHz",
        "outputId": "4e1a64b4-b576-43ec-b259-5aa7782ca80f"
      },
      "outputs": [
        {
          "data": {
            "text/plain": [
              "{'anime_uid': 34096,\n",
              " 'text': 'First things first. My \"reviews\" system is explained on a blog entry. Which can be found through my profile. \\r\\n------ \\r\\n \\r\\nI\\'m going to keep this \"review\" more of a opinion of Gintama\\'s overall and then this season specific. \\r\\n \\r\\nAnyhow. What I have always loved regarding Gintama, is its content of everything. I love the comedy, its absurd, random, can be vile, dirty, sweet, anyhow, everything. Have laughed countless times in this franchise. Also the humor they have also is heavily reference based, a.k.a parodies of different anime, shows, manga, live stuff, real world, anime production and so on. Anyhow, comedy/parody side of this franchise i absolutely love. \\r\\n \\r\\nNow, 2nd side of this show is the serious dramas, epic battle shounens and so on.. There are arcs that are fully comedy, arcs that are fully serious and mixtures of both. Serious side is usually quite dramatic and managed to somewhat tear me up now and then. Whilst the action sequences are absolute bliss as well. They are just presented in a really cool manner. And extra points when sometime the add artistic element. \\r\\n \\r\\nOf course it has its slice-of-life side and pseudo-romance. Those are weaker side, but ain\\'t the focus. But when sometimes those are the \"focus\", then they are done in enjoyable method. \\r\\n \\r\\nTo sum up overall gintama\\'s, I love the serious side and the silly side. \\r\\n \\r\\nArt and sound (voice acting/ost/op/ed) is something I loved in all gintamas across the board. They just click with me, bliss to look at, bliss to hear. Music (op/ed) specifically are hyped up and upbeat, which generally I don\\'t like, but gintama is the exception where I love them. Art is cool, sometimes artistic, sometimes simple. It has a bit of everything that makes it enjoyable. And gore is absolutely satisfying as well. (well, the blood to be specific) \\r\\n \\r\\nWell, the serious side of stories in this anime are superb in my opinion. (or the overall idea of story that moves now and then). But wouldn\\'t say comedic side of series story is any worse.  When at times comedy side has \"story\". It\\'s usually quite enjoyable. \\r\\n \\r\\nRegarding characters I don\\'t have much to say other than that variety, stereotypes of \"off-stereotypes\" is very large. As well characters with depth but as well with oddity is as well in great selection. Main team. Gintoki the lazy dirty slob with superb second side of seriousness and caring about friends/allies. Shinpachi the poor straight-man-act sidekick, who adds great value to the team. Kagura, the battle race girl that doesn\\'t act like girl almost at all, or in another words a dirty slob girl in a sense. \\r\\n----------------- \\r\\n \\r\\nNow, to this season specific. \\r\\n \\r\\nI found it a bit disappointing. Mainly because usually in gintama we have overly serious arcs or fully comedic, whilst this one had a bit of mixture of both, which somewhat ruined the experience. Plus the artistic presentation felt this time around a bit lacking. Maybe because of another studio, who knows. But anyhow, it didn\\'t feel as superb. Rather than gintama it felt as watching just another good battle shounen anime in modern day with simplified animation. \\r\\n \\r\\nI mean it definitely was not any bad, just didn\\'t have the punch Gintama usually has. Might be because it was short series, maybe because it focused too much moving on with story. It\\'ll be shame to see it finalized in this manner. \\r\\n \\r\\nRest I pretty much loved as usual in Gintama franchise.',\n",
              " 'score': 8,\n",
              " 'user_id': 0}"
            ]
          },
          "execution_count": 15,
          "metadata": {},
          "output_type": "execute_result"
        }
      ],
      "source": [
        "dataset[0]"
      ]
    },
    {
      "cell_type": "code",
      "execution_count": null,
      "metadata": {
        "id": "DpO7TrG5kFTy"
      },
      "outputs": [],
      "source": [
        "# add features from profiles to dataset\n",
        "# Step 1: Create a mapping from profile to gender and age\n",
        "profile_mapping = {p['user_id']: {'gender': p['gender'], 'age': p['age']} for p in profiles}\n",
        "\n",
        "# Step 2: Update dataset entries with gender and age from profiles\n",
        "for entry in dataset:\n",
        "    profile_name = entry['user_id']\n",
        "    if profile_name in profile_mapping:\n",
        "        entry.update(profile_mapping[profile_name])"
      ]
    },
    {
      "cell_type": "code",
      "execution_count": null,
      "metadata": {
        "id": "KEoLVEv-10CA"
      },
      "outputs": [],
      "source": [
        "animes = pd.read_csv(os.path.join(path, \"animes.csv\"))"
      ]
    },
    {
      "cell_type": "code",
      "execution_count": null,
      "metadata": {
        "colab": {
          "base_uri": "https://localhost:8080/"
        },
        "id": "Mxeq-74mQ0wk",
        "outputId": "381e6527-6375-42b9-9468-3edf475c32a0"
      },
      "outputs": [
        {
          "data": {
            "text/plain": [
              "(19311, 12)"
            ]
          },
          "execution_count": 18,
          "metadata": {},
          "output_type": "execute_result"
        }
      ],
      "source": [
        "animes.shape"
      ]
    },
    {
      "cell_type": "code",
      "execution_count": null,
      "metadata": {
        "colab": {
          "base_uri": "https://localhost:8080/",
          "height": 493
        },
        "id": "4Xgr8RJp15Mt",
        "outputId": "81f0cbac-4cd6-4ec1-c96d-be9f48d08866"
      },
      "outputs": [
        {
          "data": {
            "application/vnd.google.colaboratory.intrinsic+json": {
              "summary": "{\n  \"name\": \"animes\",\n  \"rows\": 19311,\n  \"fields\": [\n    {\n      \"column\": \"uid\",\n      \"properties\": {\n        \"dtype\": \"number\",\n        \"std\": 14271,\n        \"min\": 1,\n        \"max\": 40960,\n        \"num_unique_values\": 16216,\n        \"samples\": [\n          4802,\n          36560,\n          16782\n        ],\n        \"semantic_type\": \"\",\n        \"description\": \"\"\n      }\n    },\n    {\n      \"column\": \"title\",\n      \"properties\": {\n        \"dtype\": \"string\",\n        \"num_unique_values\": 16214,\n        \"samples\": [\n          \"Hakuouki Sekkaroku\",\n          \"Chimera\",\n          \"Ryoujoku Famiresu Choukyou Menu\"\n        ],\n        \"semantic_type\": \"\",\n        \"description\": \"\"\n      }\n    },\n    {\n      \"column\": \"genre\",\n      \"properties\": {\n        \"dtype\": \"category\",\n        \"num_unique_values\": 4851,\n        \"samples\": [\n          \"['Adventure', 'Military', 'Sci-Fi', 'Shounen']\",\n          \"['Music', 'Vampire']\",\n          \"['Mystery', 'Historical']\"\n        ],\n        \"semantic_type\": \"\",\n        \"description\": \"\"\n      }\n    },\n    {\n      \"column\": \"aired\",\n      \"properties\": {\n        \"dtype\": \"string\",\n        \"num_unique_values\": 11127,\n        \"samples\": [\n          \"Aug 22, 2013 to ?\",\n          \"Apr 23, 2010 to Mar 9, 2011\",\n          \"Jul 7, 2012 to Mar 30, 2013\"\n        ],\n        \"semantic_type\": \"\",\n        \"description\": \"\"\n      }\n    },\n    {\n      \"column\": \"episodes\",\n      \"properties\": {\n        \"dtype\": \"number\",\n        \"std\": 47.95038606183757,\n        \"min\": 1.0,\n        \"max\": 3057.0,\n        \"num_unique_values\": 199,\n        \"samples\": [\n          161.0,\n          6.0,\n          475.0\n        ],\n        \"semantic_type\": \"\",\n        \"description\": \"\"\n      }\n    },\n    {\n      \"column\": \"members\",\n      \"properties\": {\n        \"dtype\": \"number\",\n        \"std\": 112177,\n        \"min\": 25,\n        \"max\": 1871043,\n        \"num_unique_values\": 8803,\n        \"samples\": [\n          36514,\n          64044,\n          87955\n        ],\n        \"semantic_type\": \"\",\n        \"description\": \"\"\n      }\n    },\n    {\n      \"column\": \"popularity\",\n      \"properties\": {\n        \"dtype\": \"number\",\n        \"std\": 4676,\n        \"min\": 1,\n        \"max\": 16338,\n        \"num_unique_values\": 14382,\n        \"samples\": [\n          13734,\n          4027,\n          4853\n        ],\n        \"semantic_type\": \"\",\n        \"description\": \"\"\n      }\n    },\n    {\n      \"column\": \"ranked\",\n      \"properties\": {\n        \"dtype\": \"number\",\n        \"std\": 4390.018767563312,\n        \"min\": 1.0,\n        \"max\": 14675.0,\n        \"num_unique_values\": 14422,\n        \"samples\": [\n          12261.0,\n          8741.0,\n          5916.0\n        ],\n        \"semantic_type\": \"\",\n        \"description\": \"\"\n      }\n    },\n    {\n      \"column\": \"score\",\n      \"properties\": {\n        \"dtype\": \"number\",\n        \"std\": 1.007940646439764,\n        \"min\": 1.25,\n        \"max\": 9.23,\n        \"num_unique_values\": 580,\n        \"samples\": [\n          3.42,\n          6.99,\n          9.04\n        ],\n        \"semantic_type\": \"\",\n        \"description\": \"\"\n      }\n    }\n  ]\n}",
              "type": "dataframe"
            },
            "text/html": [
              "\n",
              "  <div id=\"df-91105d4f-1753-4b19-bff7-927d4ac58bae\" class=\"colab-df-container\">\n",
              "    <div>\n",
              "<style scoped>\n",
              "    .dataframe tbody tr th:only-of-type {\n",
              "        vertical-align: middle;\n",
              "    }\n",
              "\n",
              "    .dataframe tbody tr th {\n",
              "        vertical-align: top;\n",
              "    }\n",
              "\n",
              "    .dataframe thead th {\n",
              "        text-align: right;\n",
              "    }\n",
              "</style>\n",
              "<table border=\"1\" class=\"dataframe\">\n",
              "  <thead>\n",
              "    <tr style=\"text-align: right;\">\n",
              "      <th></th>\n",
              "      <th>uid</th>\n",
              "      <th>title</th>\n",
              "      <th>genre</th>\n",
              "      <th>aired</th>\n",
              "      <th>episodes</th>\n",
              "      <th>members</th>\n",
              "      <th>popularity</th>\n",
              "      <th>ranked</th>\n",
              "      <th>score</th>\n",
              "    </tr>\n",
              "  </thead>\n",
              "  <tbody>\n",
              "    <tr>\n",
              "      <th>0</th>\n",
              "      <td>28891</td>\n",
              "      <td>Haikyuu!! Second Season</td>\n",
              "      <td>['Comedy', 'Sports', 'Drama', 'School', 'Shoun...</td>\n",
              "      <td>Oct 4, 2015 to Mar 27, 2016</td>\n",
              "      <td>25.0</td>\n",
              "      <td>489888</td>\n",
              "      <td>141</td>\n",
              "      <td>25.0</td>\n",
              "      <td>8.82</td>\n",
              "    </tr>\n",
              "    <tr>\n",
              "      <th>1</th>\n",
              "      <td>23273</td>\n",
              "      <td>Shigatsu wa Kimi no Uso</td>\n",
              "      <td>['Drama', 'Music', 'Romance', 'School', 'Shoun...</td>\n",
              "      <td>Oct 10, 2014 to Mar 20, 2015</td>\n",
              "      <td>22.0</td>\n",
              "      <td>995473</td>\n",
              "      <td>28</td>\n",
              "      <td>24.0</td>\n",
              "      <td>8.83</td>\n",
              "    </tr>\n",
              "    <tr>\n",
              "      <th>2</th>\n",
              "      <td>34599</td>\n",
              "      <td>Made in Abyss</td>\n",
              "      <td>['Sci-Fi', 'Adventure', 'Mystery', 'Drama', 'F...</td>\n",
              "      <td>Jul 7, 2017 to Sep 29, 2017</td>\n",
              "      <td>13.0</td>\n",
              "      <td>581663</td>\n",
              "      <td>98</td>\n",
              "      <td>23.0</td>\n",
              "      <td>8.83</td>\n",
              "    </tr>\n",
              "    <tr>\n",
              "      <th>3</th>\n",
              "      <td>5114</td>\n",
              "      <td>Fullmetal Alchemist: Brotherhood</td>\n",
              "      <td>['Action', 'Military', 'Adventure', 'Comedy', ...</td>\n",
              "      <td>Apr 5, 2009 to Jul 4, 2010</td>\n",
              "      <td>64.0</td>\n",
              "      <td>1615084</td>\n",
              "      <td>4</td>\n",
              "      <td>1.0</td>\n",
              "      <td>9.23</td>\n",
              "    </tr>\n",
              "    <tr>\n",
              "      <th>4</th>\n",
              "      <td>31758</td>\n",
              "      <td>Kizumonogatari III: Reiketsu-hen</td>\n",
              "      <td>['Action', 'Mystery', 'Supernatural', 'Vampire']</td>\n",
              "      <td>Jan 6, 2017</td>\n",
              "      <td>1.0</td>\n",
              "      <td>214621</td>\n",
              "      <td>502</td>\n",
              "      <td>22.0</td>\n",
              "      <td>8.83</td>\n",
              "    </tr>\n",
              "    <tr>\n",
              "      <th>...</th>\n",
              "      <td>...</td>\n",
              "      <td>...</td>\n",
              "      <td>...</td>\n",
              "      <td>...</td>\n",
              "      <td>...</td>\n",
              "      <td>...</td>\n",
              "      <td>...</td>\n",
              "      <td>...</td>\n",
              "      <td>...</td>\n",
              "    </tr>\n",
              "    <tr>\n",
              "      <th>19306</th>\n",
              "      <td>32979</td>\n",
              "      <td>Flip Flappers</td>\n",
              "      <td>['Sci-Fi', 'Adventure', 'Comedy', 'Magic']</td>\n",
              "      <td>Oct 6, 2016 to Dec 29, 2016</td>\n",
              "      <td>13.0</td>\n",
              "      <td>134252</td>\n",
              "      <td>843</td>\n",
              "      <td>1070.0</td>\n",
              "      <td>7.73</td>\n",
              "    </tr>\n",
              "    <tr>\n",
              "      <th>19307</th>\n",
              "      <td>123</td>\n",
              "      <td>Fushigi Yuugi</td>\n",
              "      <td>['Adventure', 'Fantasy', 'Magic', 'Martial Art...</td>\n",
              "      <td>Apr 6, 1995 to Mar 28, 1996</td>\n",
              "      <td>52.0</td>\n",
              "      <td>84407</td>\n",
              "      <td>1292</td>\n",
              "      <td>1071.0</td>\n",
              "      <td>7.73</td>\n",
              "    </tr>\n",
              "    <tr>\n",
              "      <th>19308</th>\n",
              "      <td>1281</td>\n",
              "      <td>Gakkou no Kaidan</td>\n",
              "      <td>['Mystery', 'Horror', 'Supernatural']</td>\n",
              "      <td>Oct 22, 2000 to Mar 25, 2001</td>\n",
              "      <td>19.0</td>\n",
              "      <td>83093</td>\n",
              "      <td>1314</td>\n",
              "      <td>1073.0</td>\n",
              "      <td>7.73</td>\n",
              "    </tr>\n",
              "    <tr>\n",
              "      <th>19309</th>\n",
              "      <td>450</td>\n",
              "      <td>InuYasha Movie 2: Kagami no Naka no Mugenjo</td>\n",
              "      <td>['Action', 'Adventure', 'Comedy', 'Historical'...</td>\n",
              "      <td>Dec 21, 2002</td>\n",
              "      <td>1.0</td>\n",
              "      <td>71989</td>\n",
              "      <td>1469</td>\n",
              "      <td>1077.0</td>\n",
              "      <td>7.73</td>\n",
              "    </tr>\n",
              "    <tr>\n",
              "      <th>19310</th>\n",
              "      <td>87</td>\n",
              "      <td>Mobile Suit Gundam: Char's Counterattack</td>\n",
              "      <td>['Military', 'Sci-Fi', 'Space', 'Drama', 'Mecha']</td>\n",
              "      <td>Mar 12, 1988</td>\n",
              "      <td>1.0</td>\n",
              "      <td>29248</td>\n",
              "      <td>2604</td>\n",
              "      <td>1081.0</td>\n",
              "      <td>7.73</td>\n",
              "    </tr>\n",
              "  </tbody>\n",
              "</table>\n",
              "<p>19311 rows × 9 columns</p>\n",
              "</div>\n",
              "    <div class=\"colab-df-buttons\">\n",
              "\n",
              "  <div class=\"colab-df-container\">\n",
              "    <button class=\"colab-df-convert\" onclick=\"convertToInteractive('df-91105d4f-1753-4b19-bff7-927d4ac58bae')\"\n",
              "            title=\"Convert this dataframe to an interactive table.\"\n",
              "            style=\"display:none;\">\n",
              "\n",
              "  <svg xmlns=\"http://www.w3.org/2000/svg\" height=\"24px\" viewBox=\"0 -960 960 960\">\n",
              "    <path d=\"M120-120v-720h720v720H120Zm60-500h600v-160H180v160Zm220 220h160v-160H400v160Zm0 220h160v-160H400v160ZM180-400h160v-160H180v160Zm440 0h160v-160H620v160ZM180-180h160v-160H180v160Zm440 0h160v-160H620v160Z\"/>\n",
              "  </svg>\n",
              "    </button>\n",
              "\n",
              "  <style>\n",
              "    .colab-df-container {\n",
              "      display:flex;\n",
              "      gap: 12px;\n",
              "    }\n",
              "\n",
              "    .colab-df-convert {\n",
              "      background-color: #E8F0FE;\n",
              "      border: none;\n",
              "      border-radius: 50%;\n",
              "      cursor: pointer;\n",
              "      display: none;\n",
              "      fill: #1967D2;\n",
              "      height: 32px;\n",
              "      padding: 0 0 0 0;\n",
              "      width: 32px;\n",
              "    }\n",
              "\n",
              "    .colab-df-convert:hover {\n",
              "      background-color: #E2EBFA;\n",
              "      box-shadow: 0px 1px 2px rgba(60, 64, 67, 0.3), 0px 1px 3px 1px rgba(60, 64, 67, 0.15);\n",
              "      fill: #174EA6;\n",
              "    }\n",
              "\n",
              "    .colab-df-buttons div {\n",
              "      margin-bottom: 4px;\n",
              "    }\n",
              "\n",
              "    [theme=dark] .colab-df-convert {\n",
              "      background-color: #3B4455;\n",
              "      fill: #D2E3FC;\n",
              "    }\n",
              "\n",
              "    [theme=dark] .colab-df-convert:hover {\n",
              "      background-color: #434B5C;\n",
              "      box-shadow: 0px 1px 3px 1px rgba(0, 0, 0, 0.15);\n",
              "      filter: drop-shadow(0px 1px 2px rgba(0, 0, 0, 0.3));\n",
              "      fill: #FFFFFF;\n",
              "    }\n",
              "  </style>\n",
              "\n",
              "    <script>\n",
              "      const buttonEl =\n",
              "        document.querySelector('#df-91105d4f-1753-4b19-bff7-927d4ac58bae button.colab-df-convert');\n",
              "      buttonEl.style.display =\n",
              "        google.colab.kernel.accessAllowed ? 'block' : 'none';\n",
              "\n",
              "      async function convertToInteractive(key) {\n",
              "        const element = document.querySelector('#df-91105d4f-1753-4b19-bff7-927d4ac58bae');\n",
              "        const dataTable =\n",
              "          await google.colab.kernel.invokeFunction('convertToInteractive',\n",
              "                                                    [key], {});\n",
              "        if (!dataTable) return;\n",
              "\n",
              "        const docLinkHtml = 'Like what you see? Visit the ' +\n",
              "          '<a target=\"_blank\" href=https://colab.research.google.com/notebooks/data_table.ipynb>data table notebook</a>'\n",
              "          + ' to learn more about interactive tables.';\n",
              "        element.innerHTML = '';\n",
              "        dataTable['output_type'] = 'display_data';\n",
              "        await google.colab.output.renderOutput(dataTable, element);\n",
              "        const docLink = document.createElement('div');\n",
              "        docLink.innerHTML = docLinkHtml;\n",
              "        element.appendChild(docLink);\n",
              "      }\n",
              "    </script>\n",
              "  </div>\n",
              "\n",
              "\n",
              "<div id=\"df-8e090cd1-92b9-4bbd-9fc3-0765d027f44d\">\n",
              "  <button class=\"colab-df-quickchart\" onclick=\"quickchart('df-8e090cd1-92b9-4bbd-9fc3-0765d027f44d')\"\n",
              "            title=\"Suggest charts\"\n",
              "            style=\"display:none;\">\n",
              "\n",
              "<svg xmlns=\"http://www.w3.org/2000/svg\" height=\"24px\"viewBox=\"0 0 24 24\"\n",
              "     width=\"24px\">\n",
              "    <g>\n",
              "        <path d=\"M19 3H5c-1.1 0-2 .9-2 2v14c0 1.1.9 2 2 2h14c1.1 0 2-.9 2-2V5c0-1.1-.9-2-2-2zM9 17H7v-7h2v7zm4 0h-2V7h2v10zm4 0h-2v-4h2v4z\"/>\n",
              "    </g>\n",
              "</svg>\n",
              "  </button>\n",
              "\n",
              "<style>\n",
              "  .colab-df-quickchart {\n",
              "      --bg-color: #E8F0FE;\n",
              "      --fill-color: #1967D2;\n",
              "      --hover-bg-color: #E2EBFA;\n",
              "      --hover-fill-color: #174EA6;\n",
              "      --disabled-fill-color: #AAA;\n",
              "      --disabled-bg-color: #DDD;\n",
              "  }\n",
              "\n",
              "  [theme=dark] .colab-df-quickchart {\n",
              "      --bg-color: #3B4455;\n",
              "      --fill-color: #D2E3FC;\n",
              "      --hover-bg-color: #434B5C;\n",
              "      --hover-fill-color: #FFFFFF;\n",
              "      --disabled-bg-color: #3B4455;\n",
              "      --disabled-fill-color: #666;\n",
              "  }\n",
              "\n",
              "  .colab-df-quickchart {\n",
              "    background-color: var(--bg-color);\n",
              "    border: none;\n",
              "    border-radius: 50%;\n",
              "    cursor: pointer;\n",
              "    display: none;\n",
              "    fill: var(--fill-color);\n",
              "    height: 32px;\n",
              "    padding: 0;\n",
              "    width: 32px;\n",
              "  }\n",
              "\n",
              "  .colab-df-quickchart:hover {\n",
              "    background-color: var(--hover-bg-color);\n",
              "    box-shadow: 0 1px 2px rgba(60, 64, 67, 0.3), 0 1px 3px 1px rgba(60, 64, 67, 0.15);\n",
              "    fill: var(--button-hover-fill-color);\n",
              "  }\n",
              "\n",
              "  .colab-df-quickchart-complete:disabled,\n",
              "  .colab-df-quickchart-complete:disabled:hover {\n",
              "    background-color: var(--disabled-bg-color);\n",
              "    fill: var(--disabled-fill-color);\n",
              "    box-shadow: none;\n",
              "  }\n",
              "\n",
              "  .colab-df-spinner {\n",
              "    border: 2px solid var(--fill-color);\n",
              "    border-color: transparent;\n",
              "    border-bottom-color: var(--fill-color);\n",
              "    animation:\n",
              "      spin 1s steps(1) infinite;\n",
              "  }\n",
              "\n",
              "  @keyframes spin {\n",
              "    0% {\n",
              "      border-color: transparent;\n",
              "      border-bottom-color: var(--fill-color);\n",
              "      border-left-color: var(--fill-color);\n",
              "    }\n",
              "    20% {\n",
              "      border-color: transparent;\n",
              "      border-left-color: var(--fill-color);\n",
              "      border-top-color: var(--fill-color);\n",
              "    }\n",
              "    30% {\n",
              "      border-color: transparent;\n",
              "      border-left-color: var(--fill-color);\n",
              "      border-top-color: var(--fill-color);\n",
              "      border-right-color: var(--fill-color);\n",
              "    }\n",
              "    40% {\n",
              "      border-color: transparent;\n",
              "      border-right-color: var(--fill-color);\n",
              "      border-top-color: var(--fill-color);\n",
              "    }\n",
              "    60% {\n",
              "      border-color: transparent;\n",
              "      border-right-color: var(--fill-color);\n",
              "    }\n",
              "    80% {\n",
              "      border-color: transparent;\n",
              "      border-right-color: var(--fill-color);\n",
              "      border-bottom-color: var(--fill-color);\n",
              "    }\n",
              "    90% {\n",
              "      border-color: transparent;\n",
              "      border-bottom-color: var(--fill-color);\n",
              "    }\n",
              "  }\n",
              "</style>\n",
              "\n",
              "  <script>\n",
              "    async function quickchart(key) {\n",
              "      const quickchartButtonEl =\n",
              "        document.querySelector('#' + key + ' button');\n",
              "      quickchartButtonEl.disabled = true;  // To prevent multiple clicks.\n",
              "      quickchartButtonEl.classList.add('colab-df-spinner');\n",
              "      try {\n",
              "        const charts = await google.colab.kernel.invokeFunction(\n",
              "            'suggestCharts', [key], {});\n",
              "      } catch (error) {\n",
              "        console.error('Error during call to suggestCharts:', error);\n",
              "      }\n",
              "      quickchartButtonEl.classList.remove('colab-df-spinner');\n",
              "      quickchartButtonEl.classList.add('colab-df-quickchart-complete');\n",
              "    }\n",
              "    (() => {\n",
              "      let quickchartButtonEl =\n",
              "        document.querySelector('#df-8e090cd1-92b9-4bbd-9fc3-0765d027f44d button');\n",
              "      quickchartButtonEl.style.display =\n",
              "        google.colab.kernel.accessAllowed ? 'block' : 'none';\n",
              "    })();\n",
              "  </script>\n",
              "</div>\n",
              "\n",
              "    </div>\n",
              "  </div>\n"
            ],
            "text/plain": [
              "         uid                                        title  \\\n",
              "0      28891                      Haikyuu!! Second Season   \n",
              "1      23273                      Shigatsu wa Kimi no Uso   \n",
              "2      34599                                Made in Abyss   \n",
              "3       5114             Fullmetal Alchemist: Brotherhood   \n",
              "4      31758             Kizumonogatari III: Reiketsu-hen   \n",
              "...      ...                                          ...   \n",
              "19306  32979                                Flip Flappers   \n",
              "19307    123                                Fushigi Yuugi   \n",
              "19308   1281                             Gakkou no Kaidan   \n",
              "19309    450  InuYasha Movie 2: Kagami no Naka no Mugenjo   \n",
              "19310     87     Mobile Suit Gundam: Char's Counterattack   \n",
              "\n",
              "                                                   genre  \\\n",
              "0      ['Comedy', 'Sports', 'Drama', 'School', 'Shoun...   \n",
              "1      ['Drama', 'Music', 'Romance', 'School', 'Shoun...   \n",
              "2      ['Sci-Fi', 'Adventure', 'Mystery', 'Drama', 'F...   \n",
              "3      ['Action', 'Military', 'Adventure', 'Comedy', ...   \n",
              "4       ['Action', 'Mystery', 'Supernatural', 'Vampire']   \n",
              "...                                                  ...   \n",
              "19306         ['Sci-Fi', 'Adventure', 'Comedy', 'Magic']   \n",
              "19307  ['Adventure', 'Fantasy', 'Magic', 'Martial Art...   \n",
              "19308              ['Mystery', 'Horror', 'Supernatural']   \n",
              "19309  ['Action', 'Adventure', 'Comedy', 'Historical'...   \n",
              "19310  ['Military', 'Sci-Fi', 'Space', 'Drama', 'Mecha']   \n",
              "\n",
              "                              aired  episodes  members  popularity  ranked  \\\n",
              "0       Oct 4, 2015 to Mar 27, 2016      25.0   489888         141    25.0   \n",
              "1      Oct 10, 2014 to Mar 20, 2015      22.0   995473          28    24.0   \n",
              "2       Jul 7, 2017 to Sep 29, 2017      13.0   581663          98    23.0   \n",
              "3        Apr 5, 2009 to Jul 4, 2010      64.0  1615084           4     1.0   \n",
              "4                       Jan 6, 2017       1.0   214621         502    22.0   \n",
              "...                             ...       ...      ...         ...     ...   \n",
              "19306   Oct 6, 2016 to Dec 29, 2016      13.0   134252         843  1070.0   \n",
              "19307   Apr 6, 1995 to Mar 28, 1996      52.0    84407        1292  1071.0   \n",
              "19308  Oct 22, 2000 to Mar 25, 2001      19.0    83093        1314  1073.0   \n",
              "19309                  Dec 21, 2002       1.0    71989        1469  1077.0   \n",
              "19310                  Mar 12, 1988       1.0    29248        2604  1081.0   \n",
              "\n",
              "       score  \n",
              "0       8.82  \n",
              "1       8.83  \n",
              "2       8.83  \n",
              "3       9.23  \n",
              "4       8.83  \n",
              "...      ...  \n",
              "19306   7.73  \n",
              "19307   7.73  \n",
              "19308   7.73  \n",
              "19309   7.73  \n",
              "19310   7.73  \n",
              "\n",
              "[19311 rows x 9 columns]"
            ]
          },
          "execution_count": 19,
          "metadata": {},
          "output_type": "execute_result"
        }
      ],
      "source": [
        "# some item features could be useful: title (length?), genres, date of first aired, episodes, members, popularity, ranked, score\n",
        "animes.head()\n",
        "animes.drop(columns=['synopsis', 'img_url', 'link'])"
      ]
    },
    {
      "cell_type": "code",
      "execution_count": null,
      "metadata": {
        "id": "6MsR-tx5UI44"
      },
      "outputs": [],
      "source": [
        "# calculate anime age\n",
        "animes_dictionary = animes.to_dict(orient='records')\n",
        "\n",
        "for anime in animes_dictionary:\n",
        "    try:\n",
        "        # Convert air_start to datetime and calculate age\n",
        "        air_start = datetime.strptime(anime['aired'].split(\"to\")[0].strip(), '%b %d, %Y')\n",
        "        anime['anime_age'] = current_date.year - air_start.year - \\\n",
        "                         ((current_date.month, current_date.day) < (air_start.month, air_start.day))\n",
        "    except (ValueError, KeyError, TypeError):\n",
        "        # Handle missing or malformed birthday values\n",
        "        anime['anime_age'] = None\n",
        "\n",
        "animes = pd.DataFrame.from_dict(animes_dictionary)"
      ]
    },
    {
      "cell_type": "code",
      "execution_count": null,
      "metadata": {
        "colab": {
          "base_uri": "https://localhost:8080/"
        },
        "id": "0XUOP-8L27AJ",
        "outputId": "d1e54ff2-b497-402a-ca0f-59d21c8c9a08"
      },
      "outputs": [
        {
          "data": {
            "text/plain": [
              "{'uid': 28891,\n",
              " 'title': 'Haikyuu!! Second Season',\n",
              " 'synopsis': \"Following their participation at the Inter-High, the Karasuno High School volleyball team attempts to refocus their efforts, aiming to conquer the Spring tournament instead.  \\r\\n \\r\\nWhen they receive an invitation from long-standing rival Nekoma High, Karasuno agrees to take part in a large training camp alongside many notable volleyball teams in Tokyo and even some national level players. By playing with some of the toughest teams in Japan, they hope not only to sharpen their skills, but also come up with new attacks that would strengthen them. Moreover, Hinata and Kageyama attempt to devise a more powerful weapon, one that could possibly break the sturdiest of blocks.  \\r\\n \\r\\nFacing what may be their last chance at victory before the senior players graduate, the members of Karasuno's volleyball team must learn to settle their differences and train harder than ever if they hope to overcome formidable opponents old and new—including their archrival Aoba Jousai and its world-class setter Tooru Oikawa. \\r\\n \\r\\n[Written by MAL Rewrite]\",\n",
              " 'genre': \"['Comedy', 'Sports', 'Drama', 'School', 'Shounen']\",\n",
              " 'aired': 'Oct 4, 2015 to Mar 27, 2016',\n",
              " 'episodes': 25.0,\n",
              " 'members': 489888,\n",
              " 'popularity': 141,\n",
              " 'ranked': 25.0,\n",
              " 'score': 8.82,\n",
              " 'img_url': 'https://cdn.myanimelist.net/images/anime/9/76662.jpg',\n",
              " 'link': 'https://myanimelist.net/anime/28891/Haikyuu_Second_Season',\n",
              " 'anime_age': 9}"
            ]
          },
          "execution_count": 21,
          "metadata": {},
          "output_type": "execute_result"
        }
      ],
      "source": [
        "animes_dictionary[0]"
      ]
    },
    {
      "cell_type": "code",
      "execution_count": null,
      "metadata": {
        "id": "zDswfWmRb6Av"
      },
      "outputs": [],
      "source": [
        "animes['title_length'] = [len(d) for d in animes['title']]\n",
        "animes_dictionary = animes.to_dict(orient='records')"
      ]
    },
    {
      "cell_type": "code",
      "execution_count": null,
      "metadata": {
        "id": "lwN7we97VoM0"
      },
      "outputs": [],
      "source": [
        "# add features from anime to dataset\n",
        "# Step 1: Create a mapping from uid to anime_age\n",
        "anime_mapping = {a['uid']: {'anime_age': a['anime_age'], 'title_length': a['title_length'], 'members': a['members'], 'popularity':a['popularity']} for a in animes_dictionary}\n",
        "\n",
        "# Step 2: Update dataset entries with anime_age and title_length from animes\n",
        "for entry in dataset:\n",
        "    anime_uid = entry['anime_uid']\n",
        "    if anime_uid in anime_mapping:\n",
        "        entry.update(anime_mapping[anime_uid])"
      ]
    },
    {
      "cell_type": "code",
      "execution_count": null,
      "metadata": {
        "colab": {
          "base_uri": "https://localhost:8080/"
        },
        "id": "a6EegwAAWqfD",
        "outputId": "b731fe52-a2f2-4fc4-c104-11a9bb1a2d4a"
      },
      "outputs": [
        {
          "data": {
            "text/plain": [
              "{'anime_uid': 34096,\n",
              " 'text': 'First things first. My \"reviews\" system is explained on a blog entry. Which can be found through my profile. \\r\\n------ \\r\\n \\r\\nI\\'m going to keep this \"review\" more of a opinion of Gintama\\'s overall and then this season specific. \\r\\n \\r\\nAnyhow. What I have always loved regarding Gintama, is its content of everything. I love the comedy, its absurd, random, can be vile, dirty, sweet, anyhow, everything. Have laughed countless times in this franchise. Also the humor they have also is heavily reference based, a.k.a parodies of different anime, shows, manga, live stuff, real world, anime production and so on. Anyhow, comedy/parody side of this franchise i absolutely love. \\r\\n \\r\\nNow, 2nd side of this show is the serious dramas, epic battle shounens and so on.. There are arcs that are fully comedy, arcs that are fully serious and mixtures of both. Serious side is usually quite dramatic and managed to somewhat tear me up now and then. Whilst the action sequences are absolute bliss as well. They are just presented in a really cool manner. And extra points when sometime the add artistic element. \\r\\n \\r\\nOf course it has its slice-of-life side and pseudo-romance. Those are weaker side, but ain\\'t the focus. But when sometimes those are the \"focus\", then they are done in enjoyable method. \\r\\n \\r\\nTo sum up overall gintama\\'s, I love the serious side and the silly side. \\r\\n \\r\\nArt and sound (voice acting/ost/op/ed) is something I loved in all gintamas across the board. They just click with me, bliss to look at, bliss to hear. Music (op/ed) specifically are hyped up and upbeat, which generally I don\\'t like, but gintama is the exception where I love them. Art is cool, sometimes artistic, sometimes simple. It has a bit of everything that makes it enjoyable. And gore is absolutely satisfying as well. (well, the blood to be specific) \\r\\n \\r\\nWell, the serious side of stories in this anime are superb in my opinion. (or the overall idea of story that moves now and then). But wouldn\\'t say comedic side of series story is any worse.  When at times comedy side has \"story\". It\\'s usually quite enjoyable. \\r\\n \\r\\nRegarding characters I don\\'t have much to say other than that variety, stereotypes of \"off-stereotypes\" is very large. As well characters with depth but as well with oddity is as well in great selection. Main team. Gintoki the lazy dirty slob with superb second side of seriousness and caring about friends/allies. Shinpachi the poor straight-man-act sidekick, who adds great value to the team. Kagura, the battle race girl that doesn\\'t act like girl almost at all, or in another words a dirty slob girl in a sense. \\r\\n----------------- \\r\\n \\r\\nNow, to this season specific. \\r\\n \\r\\nI found it a bit disappointing. Mainly because usually in gintama we have overly serious arcs or fully comedic, whilst this one had a bit of mixture of both, which somewhat ruined the experience. Plus the artistic presentation felt this time around a bit lacking. Maybe because of another studio, who knows. But anyhow, it didn\\'t feel as superb. Rather than gintama it felt as watching just another good battle shounen anime in modern day with simplified animation. \\r\\n \\r\\nI mean it definitely was not any bad, just didn\\'t have the punch Gintama usually has. Might be because it was short series, maybe because it focused too much moving on with story. It\\'ll be shame to see it finalized in this manner. \\r\\n \\r\\nRest I pretty much loved as usual in Gintama franchise.',\n",
              " 'score': 8,\n",
              " 'user_id': 0,\n",
              " 'gender': 'Male',\n",
              " 'age': 30,\n",
              " 'anime_age': 7.0,\n",
              " 'title_length': 8,\n",
              " 'members': 139309,\n",
              " 'popularity': 800}"
            ]
          },
          "execution_count": 24,
          "metadata": {},
          "output_type": "execute_result"
        }
      ],
      "source": [
        "dataset[0]"
      ]
    },
    {
      "cell_type": "markdown",
      "metadata": {
        "id": "7CH0VxQo32GH"
      },
      "source": [
        "## Exploratory Data Analysis"
      ]
    },
    {
      "cell_type": "markdown",
      "metadata": {
        "id": "VW67ceKp7UY8"
      },
      "source": [
        "## User Features"
      ]
    },
    {
      "cell_type": "code",
      "execution_count": null,
      "metadata": {
        "colab": {
          "base_uri": "https://localhost:8080/",
          "height": 206
        },
        "id": "z0PdlABa9aXD",
        "outputId": "0cc97cc2-0a4a-4e60-b230-e70d9b2c7fce"
      },
      "outputs": [
        {
          "data": {
            "application/vnd.google.colaboratory.intrinsic+json": {
              "summary": "{\n  \"name\": \"profiles_df\",\n  \"rows\": 43636,\n  \"fields\": [\n    {\n      \"column\": \"gender\",\n      \"properties\": {\n        \"dtype\": \"category\",\n        \"num_unique_values\": 3,\n        \"samples\": [\n          \"Male\",\n          \"Female\",\n          \"Non-Binary\"\n        ],\n        \"semantic_type\": \"\",\n        \"description\": \"\"\n      }\n    },\n    {\n      \"column\": \"birthday\",\n      \"properties\": {\n        \"dtype\": \"category\",\n        \"num_unique_values\": 7540,\n        \"samples\": [\n          \"Dec 23, 1984\",\n          \"Apr 21, 1994\",\n          \"May 5, 1996\"\n        ],\n        \"semantic_type\": \"\",\n        \"description\": \"\"\n      }\n    },\n    {\n      \"column\": \"favorites_anime\",\n      \"properties\": {\n        \"dtype\": \"string\",\n        \"num_unique_values\": 22113,\n        \"samples\": [\n          \"['1887', '21', '269', '1575']\",\n          \"['32182', '8129', '31964', '10165', '232']\",\n          \"['227', '889', '43', '1']\"\n        ],\n        \"semantic_type\": \"\",\n        \"description\": \"\"\n      }\n    },\n    {\n      \"column\": \"user_id\",\n      \"properties\": {\n        \"dtype\": \"number\",\n        \"std\": 6732,\n        \"min\": 0,\n        \"max\": 25022,\n        \"num_unique_values\": 25023,\n        \"samples\": [\n          18882,\n          9623,\n          16124\n        ],\n        \"semantic_type\": \"\",\n        \"description\": \"\"\n      }\n    },\n    {\n      \"column\": \"age\",\n      \"properties\": {\n        \"dtype\": \"number\",\n        \"std\": 7.7850844789392015,\n        \"min\": 3.0,\n        \"max\": 94.0,\n        \"num_unique_values\": 90,\n        \"samples\": [\n          17.0,\n          42.0,\n          51.0\n        ],\n        \"semantic_type\": \"\",\n        \"description\": \"\"\n      }\n    }\n  ]\n}",
              "type": "dataframe",
              "variable_name": "profiles_df"
            },
            "text/html": [
              "\n",
              "  <div id=\"df-fa68238c-2fc2-43da-b331-20b33669b791\" class=\"colab-df-container\">\n",
              "    <div>\n",
              "<style scoped>\n",
              "    .dataframe tbody tr th:only-of-type {\n",
              "        vertical-align: middle;\n",
              "    }\n",
              "\n",
              "    .dataframe tbody tr th {\n",
              "        vertical-align: top;\n",
              "    }\n",
              "\n",
              "    .dataframe thead th {\n",
              "        text-align: right;\n",
              "    }\n",
              "</style>\n",
              "<table border=\"1\" class=\"dataframe\">\n",
              "  <thead>\n",
              "    <tr style=\"text-align: right;\">\n",
              "      <th></th>\n",
              "      <th>gender</th>\n",
              "      <th>birthday</th>\n",
              "      <th>favorites_anime</th>\n",
              "      <th>user_id</th>\n",
              "      <th>age</th>\n",
              "    </tr>\n",
              "  </thead>\n",
              "  <tbody>\n",
              "    <tr>\n",
              "      <th>0</th>\n",
              "      <td>Male</td>\n",
              "      <td>Oct 2, 1994</td>\n",
              "      <td>['33352', '25013', '5530', '33674', '1482', '2...</td>\n",
              "      <td>0</td>\n",
              "      <td>30.0</td>\n",
              "    </tr>\n",
              "    <tr>\n",
              "      <th>1</th>\n",
              "      <td>Female</td>\n",
              "      <td>Nov 10, 2000</td>\n",
              "      <td>['11061', '31964', '853', '20583', '918', '925...</td>\n",
              "      <td>1</td>\n",
              "      <td>24.0</td>\n",
              "    </tr>\n",
              "    <tr>\n",
              "      <th>2</th>\n",
              "      <td>Male</td>\n",
              "      <td>Sep 5</td>\n",
              "      <td>['5680', '849', '2904', '3588', '37349']</td>\n",
              "      <td>2</td>\n",
              "      <td>NaN</td>\n",
              "    </tr>\n",
              "    <tr>\n",
              "      <th>3</th>\n",
              "      <td>Male</td>\n",
              "      <td>Oct 30, 1999</td>\n",
              "      <td>['4181', '7791', '9617', '5680', '2167', '4382...</td>\n",
              "      <td>3</td>\n",
              "      <td>25.0</td>\n",
              "    </tr>\n",
              "    <tr>\n",
              "      <th>4</th>\n",
              "      <td>Male</td>\n",
              "      <td>Jan 1, 1985</td>\n",
              "      <td>['11061', '30', '6594', '28701', '10087', '674...</td>\n",
              "      <td>4</td>\n",
              "      <td>39.0</td>\n",
              "    </tr>\n",
              "  </tbody>\n",
              "</table>\n",
              "</div>\n",
              "    <div class=\"colab-df-buttons\">\n",
              "\n",
              "  <div class=\"colab-df-container\">\n",
              "    <button class=\"colab-df-convert\" onclick=\"convertToInteractive('df-fa68238c-2fc2-43da-b331-20b33669b791')\"\n",
              "            title=\"Convert this dataframe to an interactive table.\"\n",
              "            style=\"display:none;\">\n",
              "\n",
              "  <svg xmlns=\"http://www.w3.org/2000/svg\" height=\"24px\" viewBox=\"0 -960 960 960\">\n",
              "    <path d=\"M120-120v-720h720v720H120Zm60-500h600v-160H180v160Zm220 220h160v-160H400v160Zm0 220h160v-160H400v160ZM180-400h160v-160H180v160Zm440 0h160v-160H620v160ZM180-180h160v-160H180v160Zm440 0h160v-160H620v160Z\"/>\n",
              "  </svg>\n",
              "    </button>\n",
              "\n",
              "  <style>\n",
              "    .colab-df-container {\n",
              "      display:flex;\n",
              "      gap: 12px;\n",
              "    }\n",
              "\n",
              "    .colab-df-convert {\n",
              "      background-color: #E8F0FE;\n",
              "      border: none;\n",
              "      border-radius: 50%;\n",
              "      cursor: pointer;\n",
              "      display: none;\n",
              "      fill: #1967D2;\n",
              "      height: 32px;\n",
              "      padding: 0 0 0 0;\n",
              "      width: 32px;\n",
              "    }\n",
              "\n",
              "    .colab-df-convert:hover {\n",
              "      background-color: #E2EBFA;\n",
              "      box-shadow: 0px 1px 2px rgba(60, 64, 67, 0.3), 0px 1px 3px 1px rgba(60, 64, 67, 0.15);\n",
              "      fill: #174EA6;\n",
              "    }\n",
              "\n",
              "    .colab-df-buttons div {\n",
              "      margin-bottom: 4px;\n",
              "    }\n",
              "\n",
              "    [theme=dark] .colab-df-convert {\n",
              "      background-color: #3B4455;\n",
              "      fill: #D2E3FC;\n",
              "    }\n",
              "\n",
              "    [theme=dark] .colab-df-convert:hover {\n",
              "      background-color: #434B5C;\n",
              "      box-shadow: 0px 1px 3px 1px rgba(0, 0, 0, 0.15);\n",
              "      filter: drop-shadow(0px 1px 2px rgba(0, 0, 0, 0.3));\n",
              "      fill: #FFFFFF;\n",
              "    }\n",
              "  </style>\n",
              "\n",
              "    <script>\n",
              "      const buttonEl =\n",
              "        document.querySelector('#df-fa68238c-2fc2-43da-b331-20b33669b791 button.colab-df-convert');\n",
              "      buttonEl.style.display =\n",
              "        google.colab.kernel.accessAllowed ? 'block' : 'none';\n",
              "\n",
              "      async function convertToInteractive(key) {\n",
              "        const element = document.querySelector('#df-fa68238c-2fc2-43da-b331-20b33669b791');\n",
              "        const dataTable =\n",
              "          await google.colab.kernel.invokeFunction('convertToInteractive',\n",
              "                                                    [key], {});\n",
              "        if (!dataTable) return;\n",
              "\n",
              "        const docLinkHtml = 'Like what you see? Visit the ' +\n",
              "          '<a target=\"_blank\" href=https://colab.research.google.com/notebooks/data_table.ipynb>data table notebook</a>'\n",
              "          + ' to learn more about interactive tables.';\n",
              "        element.innerHTML = '';\n",
              "        dataTable['output_type'] = 'display_data';\n",
              "        await google.colab.output.renderOutput(dataTable, element);\n",
              "        const docLink = document.createElement('div');\n",
              "        docLink.innerHTML = docLinkHtml;\n",
              "        element.appendChild(docLink);\n",
              "      }\n",
              "    </script>\n",
              "  </div>\n",
              "\n",
              "\n",
              "<div id=\"df-da533c1e-d5bc-4c9e-b0af-58f467236251\">\n",
              "  <button class=\"colab-df-quickchart\" onclick=\"quickchart('df-da533c1e-d5bc-4c9e-b0af-58f467236251')\"\n",
              "            title=\"Suggest charts\"\n",
              "            style=\"display:none;\">\n",
              "\n",
              "<svg xmlns=\"http://www.w3.org/2000/svg\" height=\"24px\"viewBox=\"0 0 24 24\"\n",
              "     width=\"24px\">\n",
              "    <g>\n",
              "        <path d=\"M19 3H5c-1.1 0-2 .9-2 2v14c0 1.1.9 2 2 2h14c1.1 0 2-.9 2-2V5c0-1.1-.9-2-2-2zM9 17H7v-7h2v7zm4 0h-2V7h2v10zm4 0h-2v-4h2v4z\"/>\n",
              "    </g>\n",
              "</svg>\n",
              "  </button>\n",
              "\n",
              "<style>\n",
              "  .colab-df-quickchart {\n",
              "      --bg-color: #E8F0FE;\n",
              "      --fill-color: #1967D2;\n",
              "      --hover-bg-color: #E2EBFA;\n",
              "      --hover-fill-color: #174EA6;\n",
              "      --disabled-fill-color: #AAA;\n",
              "      --disabled-bg-color: #DDD;\n",
              "  }\n",
              "\n",
              "  [theme=dark] .colab-df-quickchart {\n",
              "      --bg-color: #3B4455;\n",
              "      --fill-color: #D2E3FC;\n",
              "      --hover-bg-color: #434B5C;\n",
              "      --hover-fill-color: #FFFFFF;\n",
              "      --disabled-bg-color: #3B4455;\n",
              "      --disabled-fill-color: #666;\n",
              "  }\n",
              "\n",
              "  .colab-df-quickchart {\n",
              "    background-color: var(--bg-color);\n",
              "    border: none;\n",
              "    border-radius: 50%;\n",
              "    cursor: pointer;\n",
              "    display: none;\n",
              "    fill: var(--fill-color);\n",
              "    height: 32px;\n",
              "    padding: 0;\n",
              "    width: 32px;\n",
              "  }\n",
              "\n",
              "  .colab-df-quickchart:hover {\n",
              "    background-color: var(--hover-bg-color);\n",
              "    box-shadow: 0 1px 2px rgba(60, 64, 67, 0.3), 0 1px 3px 1px rgba(60, 64, 67, 0.15);\n",
              "    fill: var(--button-hover-fill-color);\n",
              "  }\n",
              "\n",
              "  .colab-df-quickchart-complete:disabled,\n",
              "  .colab-df-quickchart-complete:disabled:hover {\n",
              "    background-color: var(--disabled-bg-color);\n",
              "    fill: var(--disabled-fill-color);\n",
              "    box-shadow: none;\n",
              "  }\n",
              "\n",
              "  .colab-df-spinner {\n",
              "    border: 2px solid var(--fill-color);\n",
              "    border-color: transparent;\n",
              "    border-bottom-color: var(--fill-color);\n",
              "    animation:\n",
              "      spin 1s steps(1) infinite;\n",
              "  }\n",
              "\n",
              "  @keyframes spin {\n",
              "    0% {\n",
              "      border-color: transparent;\n",
              "      border-bottom-color: var(--fill-color);\n",
              "      border-left-color: var(--fill-color);\n",
              "    }\n",
              "    20% {\n",
              "      border-color: transparent;\n",
              "      border-left-color: var(--fill-color);\n",
              "      border-top-color: var(--fill-color);\n",
              "    }\n",
              "    30% {\n",
              "      border-color: transparent;\n",
              "      border-left-color: var(--fill-color);\n",
              "      border-top-color: var(--fill-color);\n",
              "      border-right-color: var(--fill-color);\n",
              "    }\n",
              "    40% {\n",
              "      border-color: transparent;\n",
              "      border-right-color: var(--fill-color);\n",
              "      border-top-color: var(--fill-color);\n",
              "    }\n",
              "    60% {\n",
              "      border-color: transparent;\n",
              "      border-right-color: var(--fill-color);\n",
              "    }\n",
              "    80% {\n",
              "      border-color: transparent;\n",
              "      border-right-color: var(--fill-color);\n",
              "      border-bottom-color: var(--fill-color);\n",
              "    }\n",
              "    90% {\n",
              "      border-color: transparent;\n",
              "      border-bottom-color: var(--fill-color);\n",
              "    }\n",
              "  }\n",
              "</style>\n",
              "\n",
              "  <script>\n",
              "    async function quickchart(key) {\n",
              "      const quickchartButtonEl =\n",
              "        document.querySelector('#' + key + ' button');\n",
              "      quickchartButtonEl.disabled = true;  // To prevent multiple clicks.\n",
              "      quickchartButtonEl.classList.add('colab-df-spinner');\n",
              "      try {\n",
              "        const charts = await google.colab.kernel.invokeFunction(\n",
              "            'suggestCharts', [key], {});\n",
              "      } catch (error) {\n",
              "        console.error('Error during call to suggestCharts:', error);\n",
              "      }\n",
              "      quickchartButtonEl.classList.remove('colab-df-spinner');\n",
              "      quickchartButtonEl.classList.add('colab-df-quickchart-complete');\n",
              "    }\n",
              "    (() => {\n",
              "      let quickchartButtonEl =\n",
              "        document.querySelector('#df-da533c1e-d5bc-4c9e-b0af-58f467236251 button');\n",
              "      quickchartButtonEl.style.display =\n",
              "        google.colab.kernel.accessAllowed ? 'block' : 'none';\n",
              "    })();\n",
              "  </script>\n",
              "</div>\n",
              "\n",
              "    </div>\n",
              "  </div>\n"
            ],
            "text/plain": [
              "   gender      birthday                                    favorites_anime  \\\n",
              "0    Male   Oct 2, 1994  ['33352', '25013', '5530', '33674', '1482', '2...   \n",
              "1  Female  Nov 10, 2000  ['11061', '31964', '853', '20583', '918', '925...   \n",
              "2    Male         Sep 5           ['5680', '849', '2904', '3588', '37349']   \n",
              "3    Male  Oct 30, 1999  ['4181', '7791', '9617', '5680', '2167', '4382...   \n",
              "4    Male   Jan 1, 1985  ['11061', '30', '6594', '28701', '10087', '674...   \n",
              "\n",
              "   user_id   age  \n",
              "0        0  30.0  \n",
              "1        1  24.0  \n",
              "2        2   NaN  \n",
              "3        3  25.0  \n",
              "4        4  39.0  "
            ]
          },
          "execution_count": 25,
          "metadata": {},
          "output_type": "execute_result"
        }
      ],
      "source": [
        "profiles_df = pd.DataFrame.from_dict(profiles)\n",
        "\n",
        "# # dropping profile names bc some explicit\n",
        "# profiles_df = profiles_df.drop(columns=['profile'])\n",
        "profiles_df.head()"
      ]
    },
    {
      "cell_type": "code",
      "execution_count": null,
      "metadata": {
        "id": "aTq8ugBcCEGQ"
      },
      "outputs": [],
      "source": [
        "combined_df = pd.DataFrame.from_dict(dataset)\n",
        "combined_df = combined_df.dropna(subset=['gender'])"
      ]
    },
    {
      "cell_type": "markdown",
      "metadata": {
        "id": "92OW1a2YLJf5"
      },
      "source": [
        "### Age"
      ]
    },
    {
      "cell_type": "code",
      "execution_count": null,
      "metadata": {
        "colab": {
          "base_uri": "https://localhost:8080/",
          "height": 334
        },
        "id": "PRnbhZSjOm0n",
        "outputId": "4b1b447b-02f0-44ba-f500-79129b2a3824"
      },
      "outputs": [
        {
          "data": {
            "text/html": [
              "<div>\n",
              "<style scoped>\n",
              "    .dataframe tbody tr th:only-of-type {\n",
              "        vertical-align: middle;\n",
              "    }\n",
              "\n",
              "    .dataframe tbody tr th {\n",
              "        vertical-align: top;\n",
              "    }\n",
              "\n",
              "    .dataframe thead th {\n",
              "        text-align: right;\n",
              "    }\n",
              "</style>\n",
              "<table border=\"1\" class=\"dataframe\">\n",
              "  <thead>\n",
              "    <tr style=\"text-align: right;\">\n",
              "      <th></th>\n",
              "      <th>age</th>\n",
              "    </tr>\n",
              "  </thead>\n",
              "  <tbody>\n",
              "    <tr>\n",
              "      <th>count</th>\n",
              "      <td>34504.000000</td>\n",
              "    </tr>\n",
              "    <tr>\n",
              "      <th>mean</th>\n",
              "      <td>30.038459</td>\n",
              "    </tr>\n",
              "    <tr>\n",
              "      <th>std</th>\n",
              "      <td>7.785084</td>\n",
              "    </tr>\n",
              "    <tr>\n",
              "      <th>min</th>\n",
              "      <td>3.000000</td>\n",
              "    </tr>\n",
              "    <tr>\n",
              "      <th>25%</th>\n",
              "      <td>26.000000</td>\n",
              "    </tr>\n",
              "    <tr>\n",
              "      <th>50%</th>\n",
              "      <td>29.000000</td>\n",
              "    </tr>\n",
              "    <tr>\n",
              "      <th>75%</th>\n",
              "      <td>33.000000</td>\n",
              "    </tr>\n",
              "    <tr>\n",
              "      <th>max</th>\n",
              "      <td>94.000000</td>\n",
              "    </tr>\n",
              "  </tbody>\n",
              "</table>\n",
              "</div><br><label><b>dtype:</b> float64</label>"
            ],
            "text/plain": [
              "count    34504.000000\n",
              "mean        30.038459\n",
              "std          7.785084\n",
              "min          3.000000\n",
              "25%         26.000000\n",
              "50%         29.000000\n",
              "75%         33.000000\n",
              "max         94.000000\n",
              "Name: age, dtype: float64"
            ]
          },
          "execution_count": 27,
          "metadata": {},
          "output_type": "execute_result"
        }
      ],
      "source": [
        "profiles_df['age'].describe()"
      ]
    },
    {
      "cell_type": "code",
      "execution_count": null,
      "metadata": {
        "colab": {
          "base_uri": "https://localhost:8080/",
          "height": 472
        },
        "id": "YpYFuJ5E69Qq",
        "outputId": "a374c4cb-15be-4961-a00d-4d916196f71c"
      },
      "outputs": [
        {
          "data": {
            "image/png": "[encoded data removed]",
            "text/plain": [
              "<Figure size 640x480 with 1 Axes>"
            ]
          },
          "metadata": {},
          "output_type": "display_data"
        }
      ],
      "source": [
        "# age of user\n",
        "plt.hist(profiles_df['age'])\n",
        "plt.xticks(ticks=np.arange(0, 90, 5))\n",
        "plt.title('Distribution of Age')\n",
        "plt.xlabel('User Age')\n",
        "plt.ylabel('Frequency')\n",
        "plt.show()"
      ]
    },
    {
      "cell_type": "code",
      "execution_count": null,
      "metadata": {
        "colab": {
          "base_uri": "https://localhost:8080/",
          "height": 472
        },
        "id": "WaOF9uOGCShf",
        "outputId": "7b2aba60-50d4-47cd-d053-7a9e68ddf719"
      },
      "outputs": [
        {
          "data": {
            "image/png": "[encoded data removed]",
            "text/plain": [
              "<Figure size 640x480 with 1 Axes>"
            ]
          },
          "metadata": {},
          "output_type": "display_data"
        }
      ],
      "source": [
        "ratings = combined_df['score']\n",
        "ages = combined_df['age']\n",
        "\n",
        "plt.scatter(ages, ratings)\n",
        "plt.xlabel(\"User Age\")\n",
        "plt.ylabel(\"Rating\")\n",
        "plt.title(\"Rating vs. User Age\")\n",
        "plt.show()"
      ]
    },
    {
      "cell_type": "markdown",
      "metadata": {
        "id": "8DcloWSbLNEo"
      },
      "source": [
        "### Gender"
      ]
    },
    {
      "cell_type": "code",
      "execution_count": null,
      "metadata": {
        "colab": {
          "base_uri": "https://localhost:8080/",
          "height": 209
        },
        "id": "Euds_JLj6-Tw",
        "outputId": "84365635-77dc-4174-d71f-a5237cdb6506"
      },
      "outputs": [
        {
          "data": {
            "text/html": [
              "<div>\n",
              "<style scoped>\n",
              "    .dataframe tbody tr th:only-of-type {\n",
              "        vertical-align: middle;\n",
              "    }\n",
              "\n",
              "    .dataframe tbody tr th {\n",
              "        vertical-align: top;\n",
              "    }\n",
              "\n",
              "    .dataframe thead th {\n",
              "        text-align: right;\n",
              "    }\n",
              "</style>\n",
              "<table border=\"1\" class=\"dataframe\">\n",
              "  <thead>\n",
              "    <tr style=\"text-align: right;\">\n",
              "      <th></th>\n",
              "      <th>count</th>\n",
              "    </tr>\n",
              "    <tr>\n",
              "      <th>gender</th>\n",
              "      <th></th>\n",
              "    </tr>\n",
              "  </thead>\n",
              "  <tbody>\n",
              "    <tr>\n",
              "      <th>Male</th>\n",
              "      <td>29942</td>\n",
              "    </tr>\n",
              "    <tr>\n",
              "      <th>Female</th>\n",
              "      <td>13082</td>\n",
              "    </tr>\n",
              "    <tr>\n",
              "      <th>Non-Binary</th>\n",
              "      <td>612</td>\n",
              "    </tr>\n",
              "  </tbody>\n",
              "</table>\n",
              "</div><br><label><b>dtype:</b> int64</label>"
            ],
            "text/plain": [
              "gender\n",
              "Male          29942\n",
              "Female        13082\n",
              "Non-Binary      612\n",
              "Name: count, dtype: int64"
            ]
          },
          "execution_count": 30,
          "metadata": {},
          "output_type": "execute_result"
        }
      ],
      "source": [
        "profiles_df['gender'].value_counts()"
      ]
    },
    {
      "cell_type": "code",
      "execution_count": null,
      "metadata": {
        "id": "kTeWqUefEQHO"
      },
      "outputs": [],
      "source": [
        "genderAverages = defaultdict(list)\n",
        "dataset_df_cleaned = combined_df.to_dict(orient='records')\n",
        "\n",
        "for d in dataset_df_cleaned:\n",
        "  # print(d['gender'])\n",
        "  genderAverages[d['gender']].append(d['score'])\n",
        "\n",
        "for k in genderAverages:\n",
        "    genderAverages[k] = sum(genderAverages[k]) / len(genderAverages[k])"
      ]
    },
    {
      "cell_type": "code",
      "execution_count": null,
      "metadata": {
        "colab": {
          "base_uri": "https://localhost:8080/"
        },
        "id": "fI3RKXxfImSw",
        "outputId": "ac526e64-f840-4d5e-f272-24320b960ddf"
      },
      "outputs": [
        {
          "data": {
            "text/plain": [
              "defaultdict(list,\n",
              "            {'Male': 7.728434504792332,\n",
              "             'Female': 7.674952073893342,\n",
              "             'Non-Binary': 7.52766308835673})"
            ]
          },
          "execution_count": 32,
          "metadata": {},
          "output_type": "execute_result"
        }
      ],
      "source": [
        "genderAverages"
      ]
    },
    {
      "cell_type": "code",
      "execution_count": null,
      "metadata": {
        "id": "Xk-8kI4iIs9Y"
      },
      "outputs": [],
      "source": [
        "xplot = list(genderAverages.keys())\n",
        "xplot.sort()\n",
        "yplot = [genderAverages[k] for k in xplot]"
      ]
    },
    {
      "cell_type": "code",
      "execution_count": null,
      "metadata": {
        "colab": {
          "base_uri": "https://localhost:8080/",
          "height": 472
        },
        "id": "ZwC2IaZoEDnL",
        "outputId": "e5f2700a-060c-4200-9b2e-dafdb1c19b7b"
      },
      "outputs": [
        {
          "data": {
            "image/png": "[encoded data removed]",
            "text/plain": [
              "<Figure size 640x480 with 1 Axes>"
            ]
          },
          "metadata": {},
          "output_type": "display_data"
        }
      ],
      "source": [
        "plt.bar(xplot,yplot,color='grey',lw=0)\n",
        "plt.ylabel(\"Rating\")\n",
        "plt.xlabel(\"Gender\")\n",
        "plt.title(r\"Rating vs. Gender\")\n",
        "plt.show()"
      ]
    },
    {
      "cell_type": "code",
      "execution_count": null,
      "metadata": {
        "colab": {
          "base_uri": "https://localhost:8080/",
          "height": 473
        },
        "id": "3dTDc4k8LYjm",
        "outputId": "faa450aa-7b8d-473a-8a83-fb9c16190bd0"
      },
      "outputs": [
        {
          "data": {
            "image/png": "[encoded data removed]",
            "text/plain": [
              "<Figure size 640x480 with 1 Axes>"
            ]
          },
          "metadata": {},
          "output_type": "display_data"
        }
      ],
      "source": [
        "sns.boxplot(data=combined_df, x='gender', y='score')\n",
        "plt.title('Distribution of Ratings by Gender', fontsize=14)\n",
        "plt.xlabel('Gender')\n",
        "plt.ylabel('Rating')\n",
        "plt.show()"
      ]
    },
    {
      "cell_type": "markdown",
      "metadata": {
        "id": "nyuQSEDU7hBY"
      },
      "source": [
        "## Item Features"
      ]
    },
    {
      "cell_type": "code",
      "execution_count": null,
      "metadata": {
        "colab": {
          "base_uri": "https://localhost:8080/"
        },
        "id": "4Xd8nMgBQBh1",
        "outputId": "fa81bad5-9a07-47c0-b2ad-ea9cf942592e"
      },
      "outputs": [
        {
          "data": {
            "text/plain": [
              "19311"
            ]
          },
          "execution_count": 36,
          "metadata": {},
          "output_type": "execute_result"
        }
      ],
      "source": [
        "len(animes)"
      ]
    },
    {
      "cell_type": "markdown",
      "metadata": {
        "id": "MIt5owfzNkL-"
      },
      "source": [
        "### title Length"
      ]
    },
    {
      "cell_type": "code",
      "execution_count": null,
      "metadata": {
        "colab": {
          "base_uri": "https://localhost:8080/",
          "height": 334
        },
        "id": "MiyeEuzZPThY",
        "outputId": "3c242030-a0d1-4149-dfe0-f06a6f3723e9"
      },
      "outputs": [
        {
          "data": {
            "text/html": [
              "<div>\n",
              "<style scoped>\n",
              "    .dataframe tbody tr th:only-of-type {\n",
              "        vertical-align: middle;\n",
              "    }\n",
              "\n",
              "    .dataframe tbody tr th {\n",
              "        vertical-align: top;\n",
              "    }\n",
              "\n",
              "    .dataframe thead th {\n",
              "        text-align: right;\n",
              "    }\n",
              "</style>\n",
              "<table border=\"1\" class=\"dataframe\">\n",
              "  <thead>\n",
              "    <tr style=\"text-align: right;\">\n",
              "      <th></th>\n",
              "      <th>title_length</th>\n",
              "    </tr>\n",
              "  </thead>\n",
              "  <tbody>\n",
              "    <tr>\n",
              "      <th>count</th>\n",
              "      <td>155059.000000</td>\n",
              "    </tr>\n",
              "    <tr>\n",
              "      <th>mean</th>\n",
              "      <td>20.358844</td>\n",
              "    </tr>\n",
              "    <tr>\n",
              "      <th>std</th>\n",
              "      <td>12.710869</td>\n",
              "    </tr>\n",
              "    <tr>\n",
              "      <th>min</th>\n",
              "      <td>1.000000</td>\n",
              "    </tr>\n",
              "    <tr>\n",
              "      <th>25%</th>\n",
              "      <td>11.000000</td>\n",
              "    </tr>\n",
              "    <tr>\n",
              "      <th>50%</th>\n",
              "      <td>17.000000</td>\n",
              "    </tr>\n",
              "    <tr>\n",
              "      <th>75%</th>\n",
              "      <td>26.000000</td>\n",
              "    </tr>\n",
              "    <tr>\n",
              "      <th>max</th>\n",
              "      <td>98.000000</td>\n",
              "    </tr>\n",
              "  </tbody>\n",
              "</table>\n",
              "</div><br><label><b>dtype:</b> float64</label>"
            ],
            "text/plain": [
              "count    155059.000000\n",
              "mean         20.358844\n",
              "std          12.710869\n",
              "min           1.000000\n",
              "25%          11.000000\n",
              "50%          17.000000\n",
              "75%          26.000000\n",
              "max          98.000000\n",
              "Name: title_length, dtype: float64"
            ]
          },
          "execution_count": 38,
          "metadata": {},
          "output_type": "execute_result"
        }
      ],
      "source": [
        "combined_df['title_length'].describe()"
      ]
    },
    {
      "cell_type": "code",
      "execution_count": null,
      "metadata": {
        "id": "1qst-sPzNnDj"
      },
      "outputs": [],
      "source": [
        "title_lengths = combined_df['title_length']\n",
        "ratings = combined_df['score']"
      ]
    },
    {
      "cell_type": "code",
      "execution_count": null,
      "metadata": {
        "colab": {
          "base_uri": "https://localhost:8080/",
          "height": 472
        },
        "id": "sagwLqFs7isK",
        "outputId": "8342174d-1a5c-4535-8428-d8531ddfc7ce"
      },
      "outputs": [
        {
          "data": {
            "image/png": "[encoded data removed]",
            "text/plain": [
              "<Figure size 640x480 with 1 Axes>"
            ]
          },
          "metadata": {},
          "output_type": "display_data"
        }
      ],
      "source": [
        "plt.scatter(title_lengths, ratings)\n",
        "plt.xlabel(\"Title Length (characters)\")\n",
        "plt.ylabel(\"Rating\")\n",
        "plt.title(\"Rating vs. Title Length\")\n",
        "plt.show()"
      ]
    },
    {
      "cell_type": "markdown",
      "metadata": {
        "id": "n5VXFbrpCjR5"
      },
      "source": [
        "### review length"
      ]
    },
    {
      "cell_type": "code",
      "execution_count": null,
      "metadata": {
        "id": "6CKtTfEKRXe9"
      },
      "outputs": [],
      "source": [
        "combined_df['text_length'] = [len(d) for d in combined_df['text']]"
      ]
    },
    {
      "cell_type": "code",
      "execution_count": null,
      "metadata": {
        "colab": {
          "base_uri": "https://localhost:8080/",
          "height": 334
        },
        "id": "niX0fi0rRymr",
        "outputId": "11a6bdb7-5034-4dbb-fdfd-02d9496696c9"
      },
      "outputs": [
        {
          "data": {
            "text/html": [
              "<div>\n",
              "<style scoped>\n",
              "    .dataframe tbody tr th:only-of-type {\n",
              "        vertical-align: middle;\n",
              "    }\n",
              "\n",
              "    .dataframe tbody tr th {\n",
              "        vertical-align: top;\n",
              "    }\n",
              "\n",
              "    .dataframe thead th {\n",
              "        text-align: right;\n",
              "    }\n",
              "</style>\n",
              "<table border=\"1\" class=\"dataframe\">\n",
              "  <thead>\n",
              "    <tr style=\"text-align: right;\">\n",
              "      <th></th>\n",
              "      <th>text_length</th>\n",
              "    </tr>\n",
              "  </thead>\n",
              "  <tbody>\n",
              "    <tr>\n",
              "      <th>count</th>\n",
              "      <td>155059.000000</td>\n",
              "    </tr>\n",
              "    <tr>\n",
              "      <th>mean</th>\n",
              "      <td>2992.948800</td>\n",
              "    </tr>\n",
              "    <tr>\n",
              "      <th>std</th>\n",
              "      <td>2924.165256</td>\n",
              "    </tr>\n",
              "    <tr>\n",
              "      <th>min</th>\n",
              "      <td>80.000000</td>\n",
              "    </tr>\n",
              "    <tr>\n",
              "      <th>25%</th>\n",
              "      <td>1134.000000</td>\n",
              "    </tr>\n",
              "    <tr>\n",
              "      <th>50%</th>\n",
              "      <td>2140.000000</td>\n",
              "    </tr>\n",
              "    <tr>\n",
              "      <th>75%</th>\n",
              "      <td>3831.000000</td>\n",
              "    </tr>\n",
              "    <tr>\n",
              "      <th>max</th>\n",
              "      <td>63663.000000</td>\n",
              "    </tr>\n",
              "  </tbody>\n",
              "</table>\n",
              "</div><br><label><b>dtype:</b> float64</label>"
            ],
            "text/plain": [
              "count    155059.000000\n",
              "mean       2992.948800\n",
              "std        2924.165256\n",
              "min          80.000000\n",
              "25%        1134.000000\n",
              "50%        2140.000000\n",
              "75%        3831.000000\n",
              "max       63663.000000\n",
              "Name: text_length, dtype: float64"
            ]
          },
          "execution_count": 42,
          "metadata": {},
          "output_type": "execute_result"
        }
      ],
      "source": [
        "combined_df['text_length'].describe()"
      ]
    },
    {
      "cell_type": "code",
      "execution_count": null,
      "metadata": {
        "id": "6SeLC2z2SGlO"
      },
      "outputs": [],
      "source": [
        "review_lengths = combined_df['text_length']\n",
        "ratings = combined_df['score']"
      ]
    },
    {
      "cell_type": "code",
      "execution_count": null,
      "metadata": {
        "colab": {
          "base_uri": "https://localhost:8080/",
          "height": 472
        },
        "id": "EvJvWEitSLcR",
        "outputId": "c0371dc3-829b-4bbd-e171-d19b77a0b9bb"
      },
      "outputs": [
        {
          "data": {
            "image/png": "[encoded data removed]",
            "text/plain": [
              "<Figure size 640x480 with 1 Axes>"
            ]
          },
          "metadata": {},
          "output_type": "display_data"
        }
      ],
      "source": [
        "plt.scatter(review_lengths, ratings)\n",
        "plt.xlabel(\"Review Length (characters)\")\n",
        "plt.ylabel(\"Rating\")\n",
        "plt.title(\"Rating vs. Review Length\")\n",
        "plt.show()"
      ]
    },
    {
      "cell_type": "markdown",
      "metadata": {
        "id": "3OepH3v07mIR"
      },
      "source": [
        "### genre (optional)"
      ]
    },
    {
      "cell_type": "markdown",
      "metadata": {
        "id": "wQpZWKSH7prj"
      },
      "source": [
        "### age of anime"
      ]
    },
    {
      "cell_type": "code",
      "execution_count": null,
      "metadata": {
        "colab": {
          "base_uri": "https://localhost:8080/",
          "height": 334
        },
        "id": "k5dVoEcEYIUw",
        "outputId": "9bf4a831-1fa4-41c2-e15b-8c67091ccde1"
      },
      "outputs": [
        {
          "data": {
            "text/html": [
              "<div>\n",
              "<style scoped>\n",
              "    .dataframe tbody tr th:only-of-type {\n",
              "        vertical-align: middle;\n",
              "    }\n",
              "\n",
              "    .dataframe tbody tr th {\n",
              "        vertical-align: top;\n",
              "    }\n",
              "\n",
              "    .dataframe thead th {\n",
              "        text-align: right;\n",
              "    }\n",
              "</style>\n",
              "<table border=\"1\" class=\"dataframe\">\n",
              "  <thead>\n",
              "    <tr style=\"text-align: right;\">\n",
              "      <th></th>\n",
              "      <th>anime_age</th>\n",
              "    </tr>\n",
              "  </thead>\n",
              "  <tbody>\n",
              "    <tr>\n",
              "      <th>count</th>\n",
              "      <td>154554.000000</td>\n",
              "    </tr>\n",
              "    <tr>\n",
              "      <th>mean</th>\n",
              "      <td>14.073534</td>\n",
              "    </tr>\n",
              "    <tr>\n",
              "      <th>std</th>\n",
              "      <td>7.296961</td>\n",
              "    </tr>\n",
              "    <tr>\n",
              "      <th>min</th>\n",
              "      <td>4.000000</td>\n",
              "    </tr>\n",
              "    <tr>\n",
              "      <th>25%</th>\n",
              "      <td>9.000000</td>\n",
              "    </tr>\n",
              "    <tr>\n",
              "      <th>50%</th>\n",
              "      <td>13.000000</td>\n",
              "    </tr>\n",
              "    <tr>\n",
              "      <th>75%</th>\n",
              "      <td>18.000000</td>\n",
              "    </tr>\n",
              "    <tr>\n",
              "      <th>max</th>\n",
              "      <td>107.000000</td>\n",
              "    </tr>\n",
              "  </tbody>\n",
              "</table>\n",
              "</div><br><label><b>dtype:</b> float64</label>"
            ],
            "text/plain": [
              "count    154554.000000\n",
              "mean         14.073534\n",
              "std           7.296961\n",
              "min           4.000000\n",
              "25%           9.000000\n",
              "50%          13.000000\n",
              "75%          18.000000\n",
              "max         107.000000\n",
              "Name: anime_age, dtype: float64"
            ]
          },
          "execution_count": 39,
          "metadata": {},
          "output_type": "execute_result"
        }
      ],
      "source": [
        "combined_df['anime_age'].describe()"
      ]
    },
    {
      "cell_type": "code",
      "execution_count": null,
      "metadata": {
        "colab": {
          "base_uri": "https://localhost:8080/",
          "height": 472
        },
        "id": "V9QFCAhNYRHc",
        "outputId": "f4c66de5-0b96-4ca2-8faf-695cfae4fe3e"
      },
      "outputs": [
        {
          "data": {
            "image/png": "[encoded data removed]",
            "text/plain": [
              "<Figure size 640x480 with 1 Axes>"
            ]
          },
          "metadata": {},
          "output_type": "display_data"
        }
      ],
      "source": [
        "# age of user\n",
        "plt.hist(animes['anime_age'])\n",
        "plt.title('Distribution of Anime Age')\n",
        "plt.xlabel('Anime Age')\n",
        "plt.ylabel('Frequency')\n",
        "plt.show()"
      ]
    },
    {
      "cell_type": "code",
      "execution_count": null,
      "metadata": {
        "colab": {
          "base_uri": "https://localhost:8080/",
          "height": 472
        },
        "id": "rZCgdWHnYuDG",
        "outputId": "bbf723c3-1747-44ff-8a4b-a1ee633e558e"
      },
      "outputs": [
        {
          "data": {
            "image/png": "[encoded data removed]",
            "text/plain": [
              "<Figure size 640x480 with 1 Axes>"
            ]
          },
          "metadata": {},
          "output_type": "display_data"
        }
      ],
      "source": [
        "ratings = combined_df['score']\n",
        "anime_ages = combined_df['anime_age']\n",
        "\n",
        "plt.scatter(anime_ages, ratings)\n",
        "plt.xlabel(\"Anime Age\")\n",
        "plt.ylabel(\"Rating\")\n",
        "plt.title(\"Rating vs. Anime Age\")\n",
        "plt.show()"
      ]
    },
    {
      "cell_type": "markdown",
      "metadata": {
        "id": "Tka8rwX87uTF"
      },
      "source": [
        "### members"
      ]
    },
    {
      "cell_type": "code",
      "execution_count": null,
      "metadata": {
        "colab": {
          "base_uri": "https://localhost:8080/",
          "height": 334
        },
        "id": "1xYfdsyUdx7s",
        "outputId": "db5ffc43-eb71-48c2-9343-a24e306027c2"
      },
      "outputs": [
        {
          "data": {
            "text/html": [
              "<div>\n",
              "<style scoped>\n",
              "    .dataframe tbody tr th:only-of-type {\n",
              "        vertical-align: middle;\n",
              "    }\n",
              "\n",
              "    .dataframe tbody tr th {\n",
              "        vertical-align: top;\n",
              "    }\n",
              "\n",
              "    .dataframe thead th {\n",
              "        text-align: right;\n",
              "    }\n",
              "</style>\n",
              "<table border=\"1\" class=\"dataframe\">\n",
              "  <thead>\n",
              "    <tr style=\"text-align: right;\">\n",
              "      <th></th>\n",
              "      <th>members</th>\n",
              "    </tr>\n",
              "  </thead>\n",
              "  <tbody>\n",
              "    <tr>\n",
              "      <th>count</th>\n",
              "      <td>1.550590e+05</td>\n",
              "    </tr>\n",
              "    <tr>\n",
              "      <th>mean</th>\n",
              "      <td>4.424102e+05</td>\n",
              "    </tr>\n",
              "    <tr>\n",
              "      <th>std</th>\n",
              "      <td>4.059208e+05</td>\n",
              "    </tr>\n",
              "    <tr>\n",
              "      <th>min</th>\n",
              "      <td>5.700000e+01</td>\n",
              "    </tr>\n",
              "    <tr>\n",
              "      <th>25%</th>\n",
              "      <td>1.225630e+05</td>\n",
              "    </tr>\n",
              "    <tr>\n",
              "      <th>50%</th>\n",
              "      <td>3.380330e+05</td>\n",
              "    </tr>\n",
              "    <tr>\n",
              "      <th>75%</th>\n",
              "      <td>6.563410e+05</td>\n",
              "    </tr>\n",
              "    <tr>\n",
              "      <th>max</th>\n",
              "      <td>1.871043e+06</td>\n",
              "    </tr>\n",
              "  </tbody>\n",
              "</table>\n",
              "</div><br><label><b>dtype:</b> float64</label>"
            ],
            "text/plain": [
              "count    1.550590e+05\n",
              "mean     4.424102e+05\n",
              "std      4.059208e+05\n",
              "min      5.700000e+01\n",
              "25%      1.225630e+05\n",
              "50%      3.380330e+05\n",
              "75%      6.563410e+05\n",
              "max      1.871043e+06\n",
              "Name: members, dtype: float64"
            ]
          },
          "execution_count": 42,
          "metadata": {},
          "output_type": "execute_result"
        }
      ],
      "source": [
        "combined_df['members'].describe()"
      ]
    },
    {
      "cell_type": "code",
      "execution_count": null,
      "metadata": {
        "colab": {
          "base_uri": "https://localhost:8080/",
          "height": 472
        },
        "id": "vUdRAwN4c3cQ",
        "outputId": "7d9ccd9c-9c0f-4f6f-a2db-a9c5ba4352b6"
      },
      "outputs": [
        {
          "data": {
            "image/png": "[encoded data removed]",
            "text/plain": [
              "<Figure size 640x480 with 1 Axes>"
            ]
          },
          "metadata": {},
          "output_type": "display_data"
        }
      ],
      "source": [
        "plt.hist(combined_df['members'])\n",
        "plt.title('Distribution of Members')\n",
        "plt.xlabel('Members')\n",
        "plt.ylabel('Frequency')\n",
        "plt.show()"
      ]
    },
    {
      "cell_type": "code",
      "execution_count": null,
      "metadata": {
        "colab": {
          "base_uri": "https://localhost:8080/",
          "height": 472
        },
        "id": "fS-i1rvqdgl3",
        "outputId": "a7eeceb0-faaa-4a5c-89e9-d5be5e6067b0"
      },
      "outputs": [
        {
          "data": {
            "image/png": "[encoded data removed]",
            "text/plain": [
              "<Figure size 640x480 with 1 Axes>"
            ]
          },
          "metadata": {},
          "output_type": "display_data"
        }
      ],
      "source": [
        "ratings = combined_df['score']\n",
        "anime_ages = combined_df['members']\n",
        "\n",
        "plt.scatter(anime_ages, ratings)\n",
        "plt.xlabel(\"Members\")\n",
        "plt.ylabel(\"Rating\")\n",
        "plt.title(\"Rating vs. Members\")\n",
        "plt.show()"
      ]
    },
    {
      "cell_type": "markdown",
      "metadata": {
        "id": "cgpTGYbY7vCw"
      },
      "source": [
        "### popularity"
      ]
    },
    {
      "cell_type": "code",
      "execution_count": null,
      "metadata": {
        "colab": {
          "base_uri": "https://localhost:8080/",
          "height": 334
        },
        "id": "zLZk_zIQd0nA",
        "outputId": "176b1d5e-72c7-4bd2-c9f1-4eb8ea0793c5"
      },
      "outputs": [
        {
          "data": {
            "text/html": [
              "<div>\n",
              "<style scoped>\n",
              "    .dataframe tbody tr th:only-of-type {\n",
              "        vertical-align: middle;\n",
              "    }\n",
              "\n",
              "    .dataframe tbody tr th {\n",
              "        vertical-align: top;\n",
              "    }\n",
              "\n",
              "    .dataframe thead th {\n",
              "        text-align: right;\n",
              "    }\n",
              "</style>\n",
              "<table border=\"1\" class=\"dataframe\">\n",
              "  <thead>\n",
              "    <tr style=\"text-align: right;\">\n",
              "      <th></th>\n",
              "      <th>popularity</th>\n",
              "    </tr>\n",
              "  </thead>\n",
              "  <tbody>\n",
              "    <tr>\n",
              "      <th>count</th>\n",
              "      <td>155059.000000</td>\n",
              "    </tr>\n",
              "    <tr>\n",
              "      <th>mean</th>\n",
              "      <td>857.405865</td>\n",
              "    </tr>\n",
              "    <tr>\n",
              "      <th>std</th>\n",
              "      <td>1506.914256</td>\n",
              "    </tr>\n",
              "    <tr>\n",
              "      <th>min</th>\n",
              "      <td>1.000000</td>\n",
              "    </tr>\n",
              "    <tr>\n",
              "      <th>25%</th>\n",
              "      <td>78.000000</td>\n",
              "    </tr>\n",
              "    <tr>\n",
              "      <th>50%</th>\n",
              "      <td>287.000000</td>\n",
              "    </tr>\n",
              "    <tr>\n",
              "      <th>75%</th>\n",
              "      <td>919.000000</td>\n",
              "    </tr>\n",
              "    <tr>\n",
              "      <th>max</th>\n",
              "      <td>16084.000000</td>\n",
              "    </tr>\n",
              "  </tbody>\n",
              "</table>\n",
              "</div><br><label><b>dtype:</b> float64</label>"
            ],
            "text/plain": [
              "count    155059.000000\n",
              "mean        857.405865\n",
              "std        1506.914256\n",
              "min           1.000000\n",
              "25%          78.000000\n",
              "50%         287.000000\n",
              "75%         919.000000\n",
              "max       16084.000000\n",
              "Name: popularity, dtype: float64"
            ]
          },
          "execution_count": 45,
          "metadata": {},
          "output_type": "execute_result"
        }
      ],
      "source": [
        "combined_df['popularity'].describe()"
      ]
    },
    {
      "cell_type": "code",
      "execution_count": null,
      "metadata": {
        "colab": {
          "base_uri": "https://localhost:8080/",
          "height": 472
        },
        "id": "nxVcPNWed2T-",
        "outputId": "597594b2-ea05-444f-a108-f6106def3651"
      },
      "outputs": [
        {
          "data": {
            "image/png": "[encoded data removed]",
            "text/plain": [
              "<Figure size 640x480 with 1 Axes>"
            ]
          },
          "metadata": {},
          "output_type": "display_data"
        }
      ],
      "source": [
        "plt.hist(combined_df['popularity'])\n",
        "plt.title('Distribution of Popularity')\n",
        "plt.xlabel('Popularity')\n",
        "plt.ylabel('Frequency')\n",
        "plt.show()"
      ]
    },
    {
      "cell_type": "code",
      "execution_count": null,
      "metadata": {
        "colab": {
          "base_uri": "https://localhost:8080/",
          "height": 472
        },
        "id": "aIAhehvid-Sg",
        "outputId": "ebda9b0d-5174-4b84-9d44-81c4860de4dc"
      },
      "outputs": [
        {
          "data": {
            "image/png": "[encoded data removed]",
            "text/plain": [
              "<Figure size 640x480 with 1 Axes>"
            ]
          },
          "metadata": {},
          "output_type": "display_data"
        }
      ],
      "source": [
        "ratings = combined_df['score']\n",
        "popularities = combined_df['popularity']\n",
        "\n",
        "plt.scatter(popularities, ratings)\n",
        "plt.xlabel(\"Popularity\")\n",
        "plt.ylabel(\"Rating\")\n",
        "plt.title(\"Rating vs. Popularity\")\n",
        "plt.show()"
      ]
    },
    {
      "cell_type": "markdown",
      "metadata": {
        "id": "sI0Oo8HMbLi_"
      },
      "source": [
        "# Imputing Missing Values/Data Structures for Model Building"
      ]
    },
    {
      "cell_type": "code",
      "execution_count": null,
      "metadata": {
        "id": "Kax6iwvwLNnf"
      },
      "outputs": [],
      "source": [
        "# Calculate the mean age (excluding None or missing)\n",
        "valid_ages = [d['age'] for d in dataset if d.get('age') is not None]\n",
        "mean_age = np.mean(valid_ages)\n",
        "\n",
        "# Impute missing ages with the mean\n",
        "for d in dataset:\n",
        "    if 'age' not in d or d['age'] is None:\n",
        "        d['age'] = mean_age"
      ]
    },
    {
      "cell_type": "code",
      "execution_count": null,
      "metadata": {
        "id": "HFx3mP19N7Z0"
      },
      "outputs": [],
      "source": [
        "from collections import Counter\n",
        "\n",
        "# Get the most frequent gender\n",
        "genders = [d['gender'] for d in dataset if d.get('gender') is  not None]\n",
        "most_common_gender = Counter(genders).most_common(1)[0][0]\n",
        "\n",
        "# Impute missing genders with the most common gender\n",
        "for d in dataset:\n",
        "    if 'gender' not in d or d['gender'] is None:\n",
        "        d['gender'] = most_common_gender"
      ]
    },
    {
      "cell_type": "code",
      "execution_count": null,
      "metadata": {
        "id": "17VJtdj9bKb8"
      },
      "outputs": [],
      "source": [
        "from sklearn.model_selection import train_test_split\n",
        "\n",
        "# Split the dataset into train+validation and test sets\n",
        "train_valid, ratingsTest = train_test_split(dataset, test_size=0.2, random_state=42)\n",
        "\n",
        "# Split train+validation into train and validation sets\n",
        "ratingsTrain, ratingsValid = train_test_split(train_valid, test_size=0.2, random_state=42)\n",
        "\n",
        "# 64% train/16% valid/20% test split\n",
        "\n",
        "ratingsPerUser = defaultdict(list)\n",
        "ratingsPerAnime = defaultdict(list)\n",
        "animesPerUser = defaultdict(set)\n",
        "usersPerAnime = defaultdict(set)\n",
        "ratingDict = defaultdict(int)\n",
        "\n",
        "for d in ratingsTrain:\n",
        "    anime, user, rating = d['anime_uid'], d['user_id'], d['score']\n",
        "    ratingsPerUser[user].append((anime,rating))\n",
        "    ratingsPerAnime[anime].append((user,rating))\n",
        "    animesPerUser[user].add(anime)\n",
        "    usersPerAnime[anime].add(user)\n",
        "    ratingDict[(user,anime)] = rating"
      ]
    },
    {
      "cell_type": "markdown",
      "metadata": {
        "id": "IL5kKJgML6c5"
      },
      "source": [
        "# Baseline 1: Global Averages #"
      ]
    },
    {
      "cell_type": "code",
      "execution_count": null,
      "metadata": {
        "colab": {
          "base_uri": "https://localhost:8080/"
        },
        "id": "3kq3zh0jJXO4",
        "outputId": "a1925129-5c0c-4a36-8b43-3e219c404405"
      },
      "outputs": [
        {
          "name": "stdout",
          "output_type": "stream",
          "text": [
            "7.565696903644541\n"
          ]
        }
      ],
      "source": [
        "trainRatings = [d['score'] for d in ratingsTrain]\n",
        "globalAverage = sum(trainRatings) * 1.0 / len(trainRatings)\n",
        "print(globalAverage)\n"
      ]
    },
    {
      "cell_type": "code",
      "execution_count": null,
      "metadata": {
        "colab": {
          "base_uri": "https://localhost:8080/"
        },
        "id": "8f8QAwuAJ-_P",
        "outputId": "a7cb4529-8cbc-4987-9484-73ed2282eb7b"
      },
      "outputs": [
        {
          "name": "stdout",
          "output_type": "stream",
          "text": [
            "Validation MSE (average only) = 5.1100341882489735\n"
          ]
        }
      ],
      "source": [
        "validMSE = 0\n",
        "for d in ratingsValid:\n",
        "  se = (d['score'] - globalAverage)**2\n",
        "  validMSE += se\n",
        "\n",
        "validMSE /= len(ratingsValid)\n",
        "\n",
        "print(\"Validation MSE (average only) = \" + str(validMSE))"
      ]
    },
    {
      "cell_type": "code",
      "execution_count": null,
      "metadata": {
        "colab": {
          "base_uri": "https://localhost:8080/"
        },
        "id": "XSjz-ykgw4Co",
        "outputId": "dc4ff4ad-4fe2-451d-e1d1-e5b0c5b3276a"
      },
      "outputs": [
        {
          "name": "stdout",
          "output_type": "stream",
          "text": [
            "Test MSE (average only) = 5.067718829474009\n"
          ]
        }
      ],
      "source": [
        "testMSE = 0\n",
        "for d in ratingsTest:\n",
        "  se = (d['score'] - globalAverage)**2\n",
        "  testMSE += se\n",
        "\n",
        "testMSE /= len(ratingsTest)\n",
        "\n",
        "print(\"Test MSE (average only) = \" + str(testMSE))"
      ]
    },
    {
      "cell_type": "markdown",
      "metadata": {
        "id": "vGwd-p8AZbJ-"
      },
      "source": [
        "osheen\n"
      ]
    },
    {
      "cell_type": "code",
      "execution_count": null,
      "metadata": {
        "id": "zuGKNRjsZch5"
      },
      "outputs": [],
      "source": [
        "userAverage = {}\n",
        "for u in ratingsPerUser:\n",
        "    ratings = [d[1] for d in ratingsPerUser[u]]\n",
        "    userAverage[u] = sum(ratings) * 1.0 / len(ratings)"
      ]
    },
    {
      "cell_type": "code",
      "execution_count": null,
      "metadata": {
        "colab": {
          "background_save": true
        },
        "id": "CZbyuMeFbeRj",
        "outputId": "168465c4-8765-434b-a651-0bc7f46e7990"
      },
      "outputs": [
        {
          "name": "stdout",
          "output_type": "stream",
          "text": [
            "Buffered data was truncated after reaching the output size limit."
          ]
        }
      ],
      "source": [
        "validMSE = 0\n",
        "print(ratingsValid)\n",
        "\n",
        "\n",
        "validMSE /= len(ratingsValid)\n",
        "\n",
        "print(\"Validation MSE (average only) = \" + str(validMSE))"
      ]
    },
    {
      "cell_type": "markdown",
      "metadata": {
        "id": "lmYUtSmwME_n"
      },
      "source": [
        "# Baseline 2: Simple (bias only) Latent Factor-Based Recommender #"
      ]
    },
    {
      "cell_type": "code",
      "execution_count": null,
      "metadata": {
        "id": "keocQOm4MDOf"
      },
      "outputs": [],
      "source": [
        "betaU = {}\n",
        "betaI = {}\n",
        "for u in ratingsPerUser:\n",
        "    betaU[u] = 0\n",
        "\n",
        "for i in ratingsPerAnime:\n",
        "    betaI[i] = 0"
      ]
    },
    {
      "cell_type": "code",
      "execution_count": null,
      "metadata": {
        "id": "hCGyJC4EPLJ8"
      },
      "outputs": [],
      "source": [
        "alpha = globalAverage"
      ]
    },
    {
      "cell_type": "code",
      "execution_count": null,
      "metadata": {
        "id": "LY-20WqPPMzT"
      },
      "outputs": [],
      "source": [
        "def iterate(lamb):\n",
        "    newAlpha = 0\n",
        "    for d in ratingsTrain:\n",
        "      anime = d['anime_uid']\n",
        "      user = d['user_id']\n",
        "      rating = d['score']\n",
        "      newAlpha += rating - (betaU[user] + betaI[anime])\n",
        "    alpha = newAlpha / len(ratingsTrain)\n",
        "    for user in ratingsPerUser:\n",
        "        newBetaU = 0\n",
        "        for anime,rating in ratingsPerUser[user]:\n",
        "            newBetaU += rating - (alpha + betaI[anime])\n",
        "        betaU[user] = newBetaU / (lamb + len(ratingsPerUser[user]))\n",
        "    for anime in ratingsPerAnime:\n",
        "        newBetaI = 0\n",
        "        for user,rating in ratingsPerAnime[anime]:\n",
        "            newBetaI += rating - (alpha + betaU[user])\n",
        "        betaI[anime] = newBetaI / (lamb + len(ratingsPerAnime[anime]))\n",
        "    mse = 0\n",
        "    for d in ratingsTrain:\n",
        "      anime = d['anime_uid']\n",
        "      user = d['user_id']\n",
        "      rating = d['score']\n",
        "      prediction = alpha + betaU[user] + betaI[anime]\n",
        "      mse += (rating - prediction)**2\n",
        "    regularizer = 0\n",
        "    for user in betaU:\n",
        "        regularizer += betaU[user]**2\n",
        "    for anime in betaI:\n",
        "        regularizer += betaI[anime]**2\n",
        "    mse /= len(ratingsTrain)\n",
        "    return mse, mse + lamb*regularizer"
      ]
    },
    {
      "cell_type": "code",
      "execution_count": null,
      "metadata": {
        "id": "0-hv2onGQBay"
      },
      "outputs": [],
      "source": [
        "mse,objective = iterate(1)\n",
        "newMSE,newObjective = iterate(1)\n",
        "iterations = 2"
      ]
    },
    {
      "cell_type": "code",
      "execution_count": null,
      "metadata": {
        "colab": {
          "base_uri": "https://localhost:8080/"
        },
        "id": "HjJWZ47sQNt5",
        "outputId": "a4ff6d59-9be3-4976-ead2-b8c20f0874c5"
      },
      "outputs": [
        {
          "name": "stdout",
          "output_type": "stream",
          "text": [
            "Objective after 3 iterations = 61157.87064793187\n",
            "MSE after 3 iterations = 1.6765069361643967\n",
            "Objective after 4 iterations = 60986.627662573126\n",
            "MSE after 4 iterations = 1.6711822194458998\n",
            "Objective after 5 iterations = 60899.97716742955\n",
            "MSE after 5 iterations = 1.6692257300248448\n",
            "Objective after 6 iterations = 60826.81888006839\n",
            "MSE after 6 iterations = 1.668251953780407\n",
            "Objective after 7 iterations = 60764.996463851676\n",
            "MSE after 7 iterations = 1.6676515040403574\n",
            "Objective after 8 iterations = 60714.58907843301\n",
            "MSE after 8 iterations = 1.6672273472894525\n",
            "Objective after 9 iterations = 60674.0251856582\n",
            "MSE after 9 iterations = 1.6669023788083766\n",
            "Objective after 10 iterations = 60641.269312599215\n",
            "MSE after 10 iterations = 1.6666410914243555\n",
            "Objective after 11 iterations = 60614.49776351079\n",
            "MSE after 11 iterations = 1.6664245866659049\n",
            "Objective after 12 iterations = 60592.276485630086\n",
            "MSE after 12 iterations = 1.6662414870589726\n",
            "Objective after 13 iterations = 60573.53817035047\n",
            "MSE after 13 iterations = 1.666084260789845\n",
            "Objective after 14 iterations = 60557.50572224134\n",
            "MSE after 14 iterations = 1.6659475790003464\n",
            "Objective after 15 iterations = 60543.6159899171\n",
            "MSE after 15 iterations = 1.66582750203966\n",
            "Objective after 16 iterations = 60531.45858234437\n",
            "MSE after 16 iterations = 1.6657210324194294\n",
            "Objective after 17 iterations = 60520.73074912965\n",
            "MSE after 17 iterations = 1.6656258448609316\n",
            "Objective after 18 iterations = 60511.20537347156\n",
            "MSE after 18 iterations = 1.665540110219237\n",
            "Objective after 19 iterations = 60502.708676908835\n",
            "MSE after 19 iterations = 1.6654623738996561\n",
            "Objective after 20 iterations = 60495.104803321\n",
            "MSE after 20 iterations = 1.665391468505814\n",
            "Objective after 21 iterations = 60488.285171478215\n",
            "MSE after 21 iterations = 1.6653264493652793\n",
            "Objective after 22 iterations = 60482.16110031926\n",
            "MSE after 22 iterations = 1.6652665460514746\n",
            "Objective after 23 iterations = 60476.658672857804\n",
            "MSE after 23 iterations = 1.66521112545089\n",
            "Objective after 24 iterations = 60471.71513220856\n",
            "MSE after 24 iterations = 1.6651596633487418\n",
            "Objective after 25 iterations = 60467.276329272325\n",
            "MSE after 25 iterations = 1.665111722400342\n",
            "Objective after 26 iterations = 60463.29489558315\n",
            "MSE after 26 iterations = 1.66506693494567\n",
            "Objective after 27 iterations = 60459.72891894475\n",
            "MSE after 27 iterations = 1.665024989529687\n",
            "Objective after 28 iterations = 60456.540969900656\n",
            "MSE after 28 iterations = 1.6649856202796895\n",
            "Objective after 29 iterations = 60453.697374739684\n",
            "MSE after 29 iterations = 1.6649485984972627\n",
            "Objective after 30 iterations = 60451.16766307634\n",
            "MSE after 30 iterations = 1.664913725975737\n",
            "Objective after 31 iterations = 60448.924140119474\n",
            "MSE after 31 iterations = 1.6648808296686504\n",
            "Objective after 32 iterations = 60446.94154884082\n",
            "MSE after 32 iterations = 1.664849757418904\n",
            "Objective after 33 iterations = 60445.1967976563\n",
            "MSE after 33 iterations = 1.6648203745244805\n",
            "Objective after 34 iterations = 60443.66873643079\n",
            "MSE after 34 iterations = 1.6647925609652123\n",
            "Objective after 35 iterations = 60442.33796865111\n",
            "MSE after 35 iterations = 1.6647662091547237\n",
            "Objective after 36 iterations = 60441.18669104146\n",
            "MSE after 36 iterations = 1.6647412221082731\n",
            "Objective after 37 iterations = 60440.19855440203\n",
            "MSE after 37 iterations = 1.6647175119451663\n",
            "Objective after 38 iterations = 60439.358541178066\n",
            "MSE after 38 iterations = 1.664694998655665\n",
            "Objective after 39 iterations = 60438.652856459856\n",
            "MSE after 39 iterations = 1.6646736090824117\n",
            "Objective after 40 iterations = 60438.06882998375\n",
            "MSE after 40 iterations = 1.6646532760733188\n",
            "Objective after 41 iterations = 60437.594827358764\n",
            "MSE after 41 iterations = 1.6646339377731134\n",
            "Objective after 42 iterations = 60437.220169144406\n",
            "MSE after 42 iterations = 1.6646155370278015\n",
            "Objective after 43 iterations = 60436.93505672667\n",
            "MSE after 43 iterations = 1.6645980208794795\n",
            "Objective after 44 iterations = 60436.73050422253\n",
            "MSE after 44 iterations = 1.664581340137042\n",
            "Objective after 45 iterations = 60436.59827568861\n",
            "MSE after 45 iterations = 1.6645654490066173\n",
            "Objective after 46 iterations = 60436.53082718776\n",
            "MSE after 46 iterations = 1.664550304773804\n",
            "Objective after 47 iterations = 60436.521253212115\n",
            "MSE after 47 iterations = 1.664535867526708\n",
            "Objective after 48 iterations = 60436.56323713078\n",
            "MSE after 48 iterations = 1.664522099913909\n"
          ]
        }
      ],
      "source": [
        "while iterations < 10 or objective - newObjective > 0.0001:\n",
        "    mse, objective = newMSE, newObjective\n",
        "    newMSE, newObjective = iterate(1)\n",
        "    iterations += 1\n",
        "    print(\"Objective after \"\n",
        "        + str(iterations) + \" iterations = \" + str(newObjective))\n",
        "    print(\"MSE after \"\n",
        "        + str(iterations) + \" iterations = \" + str(newMSE))"
      ]
    },
    {
      "cell_type": "code",
      "execution_count": null,
      "metadata": {
        "colab": {
          "base_uri": "https://localhost:8080/"
        },
        "id": "4lHszU6YQPal",
        "outputId": "28629dbb-9e7b-49fd-85cd-e3eb6cea22d8"
      },
      "outputs": [
        {
          "name": "stdout",
          "output_type": "stream",
          "text": [
            "Validation MSE = 3.148578314205397\n"
          ]
        }
      ],
      "source": [
        "validMSE = 0\n",
        "for d in ratingsValid:\n",
        "  anime = d['anime_uid']\n",
        "  user = d['user_id']\n",
        "  rating = d['score']\n",
        "  bu = 0\n",
        "  bi = 0\n",
        "  if user in betaU:\n",
        "    bu = betaU[user]\n",
        "  if anime in betaI:\n",
        "    bi = betaI[anime]\n",
        "  prediction = alpha + bu + bi\n",
        "  validMSE += (rating - prediction)**2\n",
        "\n",
        "validMSE /= len(ratingsValid)\n",
        "print(\"Validation MSE = \" + str(validMSE))"
      ]
    },
    {
      "cell_type": "code",
      "execution_count": null,
      "metadata": {
        "colab": {
          "base_uri": "https://localhost:8080/"
        },
        "id": "-Axg4FeaxpKN",
        "outputId": "74e23cf8-f27e-4eac-b872-d1ea0d330f33"
      },
      "outputs": [
        {
          "name": "stdout",
          "output_type": "stream",
          "text": [
            "Test MSE = 3.151332472501748\n"
          ]
        }
      ],
      "source": [
        "testMSE = 0\n",
        "for d in ratingsTest:\n",
        "  anime = d['anime_uid']\n",
        "  user = d['user_id']\n",
        "  rating = d['score']\n",
        "  bu = 0\n",
        "  bi = 0\n",
        "  if user in betaU:\n",
        "    bu = betaU[user]\n",
        "  if anime in betaI:\n",
        "    bi = betaI[anime]\n",
        "  prediction = alpha + bu + bi\n",
        "  testMSE += (rating - prediction)**2\n",
        "\n",
        "testMSE /= len(ratingsTest)\n",
        "print(\"Test MSE = \" + str(testMSE))"
      ]
    },
    {
      "cell_type": "markdown",
      "metadata": {
        "id": "pXczIMx4YB-4"
      },
      "source": [
        "# Latent Factor Model (SVD)"
      ]
    },
    {
      "cell_type": "code",
      "execution_count": null,
      "metadata": {
        "id": "ZXjtTLvhYHbd"
      },
      "outputs": [],
      "source": [
        "# Initialize U and V randomly\n",
        "\n",
        "n_users = len(ratingsPerUser)\n",
        "n_animes = len(ratingsPerAnime)\n",
        "k = 10  # Number of latent factors\n",
        "\n",
        "U = np.random.normal(scale=1./k, size=(n_users, k))\n",
        "V = np.random.normal(scale=1./k, size=(n_animes, k))"
      ]
    },
    {
      "cell_type": "code",
      "execution_count": null,
      "metadata": {
        "id": "zDIhmQBjnLxD"
      },
      "outputs": [],
      "source": [
        "def train_latent_factor_model(U, V, ratingsTrain, ratingDict, learning_rate=0.01, reg=0.1, epochs=10):\n",
        "    for epoch in range(epochs):\n",
        "        total_loss = 0\n",
        "        for (user, anime), rating in ratingDict.items():\n",
        "            u_idx, i_idx = user, anime  # Ensure IDs map to indices\n",
        "            pred = np.dot(U[u_idx], V[i_idx])\n",
        "            error = rating - pred\n",
        "            total_loss += error ** 2\n",
        "\n",
        "            # Update rules\n",
        "            U[u_idx] += learning_rate * (error * V[i_idx] - reg * U[u_idx])\n",
        "            V[i_idx] += learning_rate * (error * U[u_idx] - reg * V[i_idx])\n",
        "\n",
        "        print(f\"Epoch {epoch+1}/{epochs}, Loss: {total_loss}\")\n",
        "    return U, V"
      ]
    },
    {
      "cell_type": "code",
      "execution_count": null,
      "metadata": {
        "colab": {
          "base_uri": "https://localhost:8080/"
        },
        "collapsed": true,
        "id": "G5kZalu5nRjX",
        "outputId": "185d01dc-cec1-4425-ccb0-45310c989419"
      },
      "outputs": [
        {
          "name": "stdout",
          "output_type": "stream",
          "text": [
            "Collecting surprise\n",
            "  Using cached surprise-0.1-py2.py3-none-any.whl.metadata (327 bytes)\n",
            "Collecting scikit-surprise (from surprise)\n",
            "  Using cached scikit_surprise-1.1.4.tar.gz (154 kB)\n",
            "  Installing build dependencies ... \u001b[?25l\u001b[?25hdone\n",
            "  Getting requirements to build wheel ... \u001b[?25l\u001b[?25hdone\n",
            "  Preparing metadata (pyproject.toml) ... \u001b[?25l\u001b[?25hdone\n",
            "Requirement already satisfied: joblib>=1.2.0 in /usr/local/lib/python3.10/dist-packages (from scikit-surprise->surprise) (1.4.2)\n",
            "Requirement already satisfied: numpy>=1.19.5 in /usr/local/lib/python3.10/dist-packages (from scikit-surprise->surprise) (1.26.4)\n",
            "Requirement already satisfied: scipy>=1.6.0 in /usr/local/lib/python3.10/dist-packages (from scikit-surprise->surprise) (1.13.1)\n",
            "Downloading surprise-0.1-py2.py3-none-any.whl (1.8 kB)\n",
            "Building wheels for collected packages: scikit-surprise\n",
            "  Building wheel for scikit-surprise (pyproject.toml) ... \u001b[?25l\u001b[?25hdone\n",
            "  Created wheel for scikit-surprise: filename=scikit_surprise-1.1.4-cp310-cp310-linux_x86_64.whl size=2357284 sha256=aab09c70b0e3ad8b0da19221e5bffa6d089834510488f85f30ea71d7b15b270a\n",
            "  Stored in directory: /root/.cache/pip/wheels/4b/3f/df/6acbf0a40397d9bf3ff97f582cc22fb9ce66adde75bc71fd54\n",
            "Successfully built scikit-surprise\n",
            "Installing collected packages: scikit-surprise, surprise\n",
            "Successfully installed scikit-surprise-1.1.4 surprise-0.1\n"
          ]
        }
      ],
      "source": [
        "!pip install surprise"
      ]
    },
    {
      "cell_type": "code",
      "execution_count": null,
      "metadata": {
        "colab": {
          "base_uri": "https://localhost:8080/"
        },
        "id": "MUSWPvCgnOZR",
        "outputId": "ae44b961-fc10-482c-8527-b9fa6f854f27"
      },
      "outputs": [
        {
          "name": "stdout",
          "output_type": "stream",
          "text": [
            "MSE: 2.6380\n",
            "Validation MSE: 2.6380143668401708\n"
          ]
        }
      ],
      "source": [
        "# Latent factor model using SVD\n",
        "\n",
        "from surprise import Dataset, Reader, SVD\n",
        "from surprise.model_selection import train_test_split\n",
        "from surprise import accuracy\n",
        "\n",
        "# Convert ratingsTrain into Surprise format\n",
        "reader = Reader(rating_scale=(1, 10))  # Adjust the scale based on your dataset\n",
        "train_data = Dataset.load_from_df(\n",
        "    pd.DataFrame([(d['user_id'], d['anime_uid'], d['score']) for d in ratingsTrain],\n",
        "                 columns=['user_id', 'anime_uid', 'score']),\n",
        "    reader\n",
        ").build_full_trainset()\n",
        "\n",
        "# Convert ratingsValid into a test set format\n",
        "valid_data = [\n",
        "    (d['user_id'], d['anime_uid'], d['score']) for d in ratingsValid\n",
        "]\n",
        "\n",
        "# Instantiate and train the SVD model\n",
        "svd = SVD()\n",
        "svd.fit(train_data)\n",
        "\n",
        "# Predictions on validation data\n",
        "predictions = [svd.predict(uid, iid, r_ui=score) for (uid, iid, score) in valid_data]\n",
        "\n",
        "# Calculate RMSE or other metrics\n",
        "mse = accuracy.mse(predictions)\n",
        "print(f\"Validation MSE: {mse}\")"
      ]
    },
    {
      "cell_type": "code",
      "execution_count": null,
      "metadata": {
        "collapsed": true,
        "id": "cX4lWsK2qAEK"
      },
      "outputs": [],
      "source": [
        "# Tune hyperparameters using grid search\n",
        "\n",
        "from surprise.model_selection import GridSearchCV\n",
        "\n",
        "# Define the parameter grid\n",
        "param_grid = {\n",
        "    'n_factors': [20, 50, 100],\n",
        "    'lr_all': [0.002, 0.005],\n",
        "    'reg_all': [0.02, 0.1],\n",
        "    'n_epochs': [10, 20]\n",
        "}\n",
        "\n",
        "# Instantiate GridSearchCV\n",
        "grid_search = GridSearchCV(\n",
        "    SVD,\n",
        "    param_grid,\n",
        "    measures=['mse'],  # Optimize for MSE\n",
        "    cv=3                # Number of folds for cross-validation\n",
        ")\n",
        "\n",
        "# Prepare train data in Surprise format\n",
        "train_data = Dataset.load_from_df(\n",
        "    pd.DataFrame([(d['user_id'], d['anime_uid'], d['score']) for d in ratingsTrain],\n",
        "                 columns=['user_id', 'anime_uid', 'score']),\n",
        "    Reader(rating_scale=(1, 10))\n",
        ")\n",
        "\n",
        "# Perform GridSearch on the full training set\n",
        "grid_search.fit(train_data)"
      ]
    },
    {
      "cell_type": "code",
      "execution_count": null,
      "metadata": {
        "colab": {
          "base_uri": "https://localhost:8080/"
        },
        "id": "c2MCa9-wpPAp",
        "outputId": "d8771ccc-16d1-4ed0-fcf9-44c6b5eab22b"
      },
      "outputs": [
        {
          "name": "stdout",
          "output_type": "stream",
          "text": [
            "Best Parameters: {'n_factors': 100, 'lr_all': 0.005, 'reg_all': 0.02, 'n_epochs': 20}\n",
            "Best MSE: 3.1172792718669498\n"
          ]
        }
      ],
      "source": [
        "# Get the best parameters and score\n",
        "best_params = grid_search.best_params['mse']\n",
        "best_score = grid_search.best_score['mse']\n",
        "\n",
        "print(f\"Best Parameters: {best_params}\")\n",
        "print(f\"Best MSE: {best_score}\")"
      ]
    },
    {
      "cell_type": "code",
      "execution_count": null,
      "metadata": {
        "colab": {
          "base_uri": "https://localhost:8080/"
        },
        "id": "3blMti9WqZHS",
        "outputId": "d9fd2a3a-9f41-4de1-9729-492d1c1c2fff"
      },
      "outputs": [
        {
          "data": {
            "text/plain": [
              "<surprise.prediction_algorithms.matrix_factorization.SVD at 0x7fb138555450>"
            ]
          },
          "execution_count": 66,
          "metadata": {},
          "output_type": "execute_result"
        }
      ],
      "source": [
        "# Train the best model\n",
        "best_model = SVD(**best_params)\n",
        "trainset = train_data.build_full_trainset()\n",
        "best_model.fit(trainset)"
      ]
    },
    {
      "cell_type": "code",
      "execution_count": null,
      "metadata": {
        "colab": {
          "base_uri": "https://localhost:8080/"
        },
        "id": "tkfOq0TgqRZk",
        "outputId": "a0e1cbe1-fc89-44c0-c066-320901589585"
      },
      "outputs": [
        {
          "name": "stdout",
          "output_type": "stream",
          "text": [
            "MSE: 2.6378\n",
            "Validation MSE with Best Model: 2.6378132549598035\n"
          ]
        }
      ],
      "source": [
        "# Predict and calculate MSE on validation data\n",
        "valid_data = [(d['user_id'], d['anime_uid'], d['score']) for d in ratingsValid]\n",
        "predictions = [best_model.predict(uid, iid, r_ui=score) for (uid, iid, score) in valid_data]\n",
        "\n",
        "from surprise import accuracy\n",
        "mse_valid = accuracy.mse(predictions)\n",
        "print(f\"Validation MSE with Best Model: {mse_valid}\")"
      ]
    },
    {
      "cell_type": "code",
      "execution_count": null,
      "metadata": {
        "colab": {
          "base_uri": "https://localhost:8080/"
        },
        "id": "KFm8awX6y9ox",
        "outputId": "0f96bc83-1171-418a-b481-836361765e43"
      },
      "outputs": [
        {
          "name": "stdout",
          "output_type": "stream",
          "text": [
            "MSE: 2.6180\n",
            "Test MSE with Best Model: 2.6180422389923192\n"
          ]
        }
      ],
      "source": [
        "# Predict and calculate MSE on test data\n",
        "test_data = [(d['user_id'], d['anime_uid'], d['score']) for d in ratingsTest]\n",
        "predictions = [best_model.predict(uid, iid, r_ui=score) for (uid, iid, score) in test_data]\n",
        "\n",
        "from surprise import accuracy\n",
        "mse_test = accuracy.mse(predictions)\n",
        "print(f\"Test MSE with Best Model: {mse_test}\")"
      ]
    },
    {
      "cell_type": "markdown",
      "metadata": {
        "id": "Rii6EP5fpCu1"
      },
      "source": [
        "# Hybrid Recommendation Model (SVD + TF-IDF)"
      ]
    },
    {
      "cell_type": "code",
      "execution_count": null,
      "metadata": {
        "colab": {
          "base_uri": "https://localhost:8080/"
        },
        "id": "c_TCM09Zno9z",
        "outputId": "14bd6583-92b0-42cd-d359-cc4af4d117ba"
      },
      "outputs": [
        {
          "name": "stdout",
          "output_type": "stream",
          "text": [
            "Validation MSE: 2.2512044696508413\n"
          ]
        }
      ],
      "source": [
        "from sklearn.feature_extraction.text import TfidfVectorizer\n",
        "from sklearn.linear_model import Ridge\n",
        "from sklearn.pipeline import Pipeline\n",
        "from surprise import Dataset, Reader, SVD\n",
        "import numpy as np\n",
        "import pandas as pd\n",
        "\n",
        "# Prepare data\n",
        "review_texts = [d['text'] for d in ratingsTrain]\n",
        "ratings = [d['score'] for d in ratingsTrain]\n",
        "users = [d['user_id'] for d in ratingsTrain]\n",
        "animes = [d['anime_uid'] for d in ratingsTrain]\n",
        "\n",
        "# TF-IDF vectorization of review texts\n",
        "vectorizer = TfidfVectorizer(max_features=1000)\n",
        "tfidf_features = vectorizer.fit_transform(review_texts)\n",
        "\n",
        "# Convert training data to Surprise format for SVD\n",
        "reader = Reader(rating_scale=(1, 10))\n",
        "train_data = Dataset.load_from_df(pd.DataFrame({\n",
        "    'user_id': users,\n",
        "    'anime_uid': animes,\n",
        "    'score': ratings\n",
        "}), reader).build_full_trainset()\n",
        "\n",
        "# Train SVD model\n",
        "svd = SVD()\n",
        "svd.fit(train_data)\n",
        "\n",
        "# Extract latent factors\n",
        "n_users = train_data.n_users\n",
        "n_items = train_data.n_items\n",
        "user_factors = svd.pu  # User latent factors (n_users x n_factors)\n",
        "item_factors = svd.qi  # Item latent factors (n_items x n_factors)\n",
        "\n",
        "# Map user and item IDs to indices\n",
        "user_to_idx = {uid: idx for idx, uid in enumerate(train_data._raw2inner_id_users.keys())}\n",
        "item_to_idx = {iid: idx for idx, iid in enumerate(train_data._raw2inner_id_items.keys())}\n",
        "\n",
        "# Prepare combined features for training\n",
        "X = []\n",
        "y = []\n",
        "\n",
        "for i, review in enumerate(ratingsTrain):\n",
        "    user = review['user_id']\n",
        "    item = review['anime_uid']\n",
        "    rating = review['score']\n",
        "\n",
        "    # Get user and item latent factors\n",
        "    user_idx = user_to_idx.get(user, None)\n",
        "    item_idx = item_to_idx.get(item, None)\n",
        "\n",
        "    if user_idx is not None and item_idx is not None:\n",
        "        user_vector = user_factors[user_idx]\n",
        "        item_vector = item_factors[item_idx]\n",
        "\n",
        "        # Get TF-IDF features for the review\n",
        "        tfidf_vector = tfidf_features[i].toarray().flatten()\n",
        "\n",
        "        # Combine latent factors and TF-IDF features\n",
        "        combined_features = np.concatenate([user_vector, item_vector, tfidf_vector])\n",
        "        X.append(combined_features)\n",
        "        y.append(rating)\n",
        "\n",
        "X = np.array(X)\n",
        "y = np.array(y)\n",
        "\n",
        "# Train Ridge regression on combined features\n",
        "ridge = Ridge(alpha=1.0)\n",
        "ridge.fit(X, y)\n",
        "\n",
        "# Evaluate on ratingsValid\n",
        "predictions = []\n",
        "actuals = []\n",
        "\n",
        "for i, review in enumerate(ratingsValid):\n",
        "    user = review['user_id']\n",
        "    item = review['anime_uid']\n",
        "    actual_rating = review['score']\n",
        "\n",
        "    user_idx = user_to_idx.get(user, None)\n",
        "    item_idx = item_to_idx.get(item, None)\n",
        "\n",
        "    if user_idx is not None and item_idx is not None:\n",
        "        user_vector = user_factors[user_idx]\n",
        "        item_vector = item_factors[item_idx]\n",
        "\n",
        "        # Get TF-IDF features for the review\n",
        "        tfidf_vector = vectorizer.transform([review['text']]).toarray().flatten()\n",
        "\n",
        "        # Combine features\n",
        "        combined_features = np.concatenate([user_vector, item_vector, tfidf_vector])\n",
        "        predicted_rating = ridge.predict([combined_features])[0]\n",
        "\n",
        "        predictions.append(predicted_rating)\n",
        "        actuals.append(actual_rating)\n",
        "\n",
        "# Calculate MSE\n",
        "from sklearn.metrics import mean_squared_error\n",
        "mse = mean_squared_error(actuals, predictions)\n",
        "print(f\"Validation MSE: {mse}\")"
      ]
    },
    {
      "cell_type": "code",
      "execution_count": null,
      "metadata": {
        "colab": {
          "base_uri": "https://localhost:8080/"
        },
        "id": "1fYClPeczoZR",
        "outputId": "52a2a68e-1b7e-412c-f0d4-3e98c457cbad"
      },
      "outputs": [
        {
          "name": "stdout",
          "output_type": "stream",
          "text": [
            "Test MSE: 2.234779737965028\n"
          ]
        }
      ],
      "source": [
        "# Step 6: Evaluate on ratingsTest\n",
        "predictions = []\n",
        "actuals = []\n",
        "\n",
        "for i, review in enumerate(ratingsTest):\n",
        "    user = review['user_id']\n",
        "    item = review['anime_uid']\n",
        "    actual_rating = review['score']\n",
        "\n",
        "    user_idx = user_to_idx.get(user, None)\n",
        "    item_idx = item_to_idx.get(item, None)\n",
        "\n",
        "    if user_idx is not None and item_idx is not None:\n",
        "        user_vector = user_factors[user_idx]\n",
        "        item_vector = item_factors[item_idx]\n",
        "\n",
        "        # Get TF-IDF features for the review\n",
        "        tfidf_vector = vectorizer.transform([review['text']]).toarray().flatten()\n",
        "\n",
        "        # Combine features\n",
        "        combined_features = np.concatenate([user_vector, item_vector, tfidf_vector])\n",
        "        predicted_rating = ridge.predict([combined_features])[0]\n",
        "\n",
        "        predictions.append(predicted_rating)\n",
        "        actuals.append(actual_rating)\n",
        "\n",
        "# Calculate MSE\n",
        "from sklearn.metrics import mean_squared_error\n",
        "mse = mean_squared_error(actuals, predictions)\n",
        "print(f\"Test MSE: {mse}\")"
      ]
    },
    {
      "cell_type": "code",
      "execution_count": null,
      "metadata": {
        "colab": {
          "base_uri": "https://localhost:8080/"
        },
        "id": "snx0Vxckozb_",
        "outputId": "2963e9d1-c9e8-453e-82f5-444445156433"
      },
      "outputs": [
        {
          "name": "stdout",
          "output_type": "stream",
          "text": [
            "Best SVD Parameters: {'n_factors': 100, 'lr_all': 0.005, 'reg_all': 0.02, 'n_epochs': 20}\n",
            "Best Ridge alpha: 1.0\n",
            "Validation MSE: 2.2503164952728008\n"
          ]
        }
      ],
      "source": [
        "from sklearn.model_selection import GridSearchCV\n",
        "from surprise import SVD, Dataset, Reader\n",
        "from sklearn.linear_model import Ridge\n",
        "from sklearn.metrics import mean_squared_error\n",
        "import numpy as np\n",
        "import pandas as pd\n",
        "\n",
        "# Step 1: Tune SVD hyperparameters\n",
        "reader = Reader(rating_scale=(1, 10))\n",
        "train_data = Dataset.load_from_df(pd.DataFrame({\n",
        "    'user_id': [d['user_id'] for d in ratingsTrain],\n",
        "    'anime_uid': [d['anime_uid'] for d in ratingsTrain],\n",
        "    'score': [d['score'] for d in ratingsTrain]\n",
        "}), reader)\n",
        "\n",
        "# Define parameter grid for SVD\n",
        "param_grid_svd = {\n",
        "    'n_factors': [20, 50, 100],\n",
        "    'lr_all': [0.002, 0.005],\n",
        "    'reg_all': [0.02, 0.1],\n",
        "    'n_epochs': [10, 20]\n",
        "}\n",
        "\n",
        "# Use GridSearchCV to tune SVD\n",
        "from surprise.model_selection import GridSearchCV as SurpriseGridSearchCV\n",
        "\n",
        "grid_search_svd = SurpriseGridSearchCV(SVD, param_grid_svd, measures=['mse'], cv=3)\n",
        "grid_search_svd.fit(train_data)\n",
        "\n",
        "# Get the best parameters for SVD\n",
        "best_params_svd = grid_search_svd.best_params['mse']\n",
        "print(f\"Best SVD Parameters: {best_params_svd}\")\n",
        "\n",
        "# Train the best SVD model\n",
        "best_svd = SVD(**best_params_svd)\n",
        "trainset = train_data.build_full_trainset()\n",
        "best_svd.fit(trainset)\n",
        "\n",
        "# Extract user and item latent factors\n",
        "user_factors = best_svd.pu\n",
        "item_factors = best_svd.qi\n",
        "\n",
        "# Step 2: Prepare combined features for Ridge regression\n",
        "# TF-IDF vectorization\n",
        "from sklearn.feature_extraction.text import TfidfVectorizer\n",
        "\n",
        "vectorizer = TfidfVectorizer(max_features=1000)\n",
        "tfidf_features = vectorizer.fit_transform([d['text'] for d in ratingsTrain])\n",
        "\n",
        "# Map user and item IDs to indices\n",
        "user_to_idx = {uid: idx for idx, uid in enumerate(trainset._raw2inner_id_users.keys())}\n",
        "item_to_idx = {iid: idx for idx, iid in enumerate(trainset._raw2inner_id_items.keys())}\n",
        "\n",
        "X = []\n",
        "y = []\n",
        "\n",
        "for i, review in enumerate(ratingsTrain):\n",
        "    user = review['user_id']\n",
        "    item = review['anime_uid']\n",
        "    rating = review['score']\n",
        "\n",
        "    user_idx = user_to_idx.get(user, None)\n",
        "    item_idx = item_to_idx.get(item, None)\n",
        "\n",
        "    if user_idx is not None and item_idx is not None:\n",
        "        user_vector = user_factors[user_idx]\n",
        "        item_vector = item_factors[item_idx]\n",
        "        tfidf_vector = tfidf_features[i].toarray().flatten()\n",
        "        combined_features = np.concatenate([user_vector, item_vector, tfidf_vector])\n",
        "        X.append(combined_features)\n",
        "        y.append(rating)\n",
        "\n",
        "X = np.array(X)\n",
        "y = np.array(y)\n",
        "\n",
        "# Step 3: Tune Ridge regression\n",
        "param_grid_ridge = {\n",
        "    'alpha': [0.01, 0.1, 1.0, 10.0, 100.0]\n",
        "}\n",
        "\n",
        "ridge = Ridge()\n",
        "grid_search_ridge = GridSearchCV(ridge, param_grid_ridge, scoring='neg_mean_squared_error', cv=3)\n",
        "grid_search_ridge.fit(X, y)\n",
        "\n",
        "# Get the best Ridge parameters\n",
        "best_ridge = grid_search_ridge.best_estimator_\n",
        "best_alpha = grid_search_ridge.best_params_['alpha']\n",
        "print(f\"Best Ridge alpha: {best_alpha}\")\n",
        "\n",
        "# Step 4: Evaluate on validation data\n",
        "predictions = []\n",
        "actuals = []\n",
        "\n",
        "for i, review in enumerate(ratingsValid):\n",
        "    user = review['user_id']\n",
        "    item = review['anime_uid']\n",
        "    actual_rating = review['score']\n",
        "\n",
        "    user_idx = user_to_idx.get(user, None)\n",
        "    item_idx = item_to_idx.get(item, None)\n",
        "\n",
        "    if user_idx is not None and item_idx is not None:\n",
        "        user_vector = user_factors[user_idx]\n",
        "        item_vector = item_factors[item_idx]\n",
        "        tfidf_vector = vectorizer.transform([review['text']]).toarray().flatten()\n",
        "        combined_features = np.concatenate([user_vector, item_vector, tfidf_vector])\n",
        "        predicted_rating = best_ridge.predict([combined_features])[0]\n",
        "\n",
        "        predictions.append(predicted_rating)\n",
        "        actuals.append(actual_rating)\n",
        "\n",
        "mse_valid = mean_squared_error(actuals, predictions)\n",
        "print(f\"Validation MSE: {mse_valid}\")"
      ]
    },
    {
      "cell_type": "code",
      "execution_count": null,
      "metadata": {
        "colab": {
          "base_uri": "https://localhost:8080/"
        },
        "id": "KzP0g0-h2J6p",
        "outputId": "8700bb0d-27be-4b6b-f320-2196d0f4e5c8"
      },
      "outputs": [
        {
          "name": "stdout",
          "output_type": "stream",
          "text": [
            "Test MSE: 2.235641933582606\n"
          ]
        }
      ],
      "source": [
        "# Step 5: Evaluate on test data\n",
        "predictions = []\n",
        "actuals = []\n",
        "\n",
        "for i, review in enumerate(ratingsTest):\n",
        "    user = review['user_id']\n",
        "    item = review['anime_uid']\n",
        "    actual_rating = review['score']\n",
        "\n",
        "    user_idx = user_to_idx.get(user, None)\n",
        "    item_idx = item_to_idx.get(item, None)\n",
        "\n",
        "    if user_idx is not None and item_idx is not None:\n",
        "        user_vector = user_factors[user_idx]\n",
        "        item_vector = item_factors[item_idx]\n",
        "        tfidf_vector = vectorizer.transform([review['text']]).toarray().flatten()\n",
        "        combined_features = np.concatenate([user_vector, item_vector, tfidf_vector])\n",
        "        predicted_rating = best_ridge.predict([combined_features])[0]\n",
        "\n",
        "        predictions.append(predicted_rating)\n",
        "        actuals.append(actual_rating)\n",
        "\n",
        "mse_valid = mean_squared_error(actuals, predictions)\n",
        "print(f\"Test MSE: {mse_valid}\")"
      ]
    },
    {
      "cell_type": "markdown",
      "metadata": {
        "id": "aHWNp9FPiij2"
      },
      "source": [
        "# Latent Factor Model (SVD++)"
      ]
    },
    {
      "cell_type": "code",
      "execution_count": null,
      "metadata": {
        "colab": {
          "base_uri": "https://localhost:8080/"
        },
        "id": "xcPkDMhriom3",
        "outputId": "c2b0e61a-f88e-43cf-ecb7-412391b78c62"
      },
      "outputs": [
        {
          "name": "stdout",
          "output_type": "stream",
          "text": [
            "MSE: 2.6948\n",
            "Validation MSE with SVD++: 2.6948219772970337\n"
          ]
        }
      ],
      "source": [
        "from surprise import SVDpp, Dataset, Reader, accuracy\n",
        "from surprise.model_selection import train_test_split, GridSearchCV\n",
        "\n",
        "# Convert ratingsTrain into Surprise format\n",
        "reader = Reader(rating_scale=(1, 10))  # Adjust the scale based on your dataset\n",
        "train_data = Dataset.load_from_df(\n",
        "    pd.DataFrame([(d['user_id'], d['anime_uid'], d['score']) for d in ratingsTrain],\n",
        "                 columns=['user_id', 'anime_uid', 'score']),\n",
        "    reader\n",
        ").build_full_trainset()\n",
        "\n",
        "# Convert ratingsValid into test set format\n",
        "valid_data = [(d['user_id'], d['anime_uid'], d['score']) for d in ratingsValid]\n",
        "\n",
        "# Instantiate and train the SVD++ model\n",
        "svdpp = SVDpp()\n",
        "svdpp.fit(train_data)\n",
        "\n",
        "# Predict ratings for validation data\n",
        "predictions = [svdpp.predict(uid, iid, r_ui=score) for (uid, iid, score) in valid_data]\n",
        "\n",
        "# Evaluate using MSE\n",
        "mse = accuracy.mse(predictions)\n",
        "print(f\"Validation MSE with SVD++: {mse}\")"
      ]
    },
    {
      "cell_type": "code",
      "execution_count": null,
      "metadata": {
        "colab": {
          "base_uri": "https://localhost:8080/"
        },
        "id": "d9QxyLWTmFru",
        "outputId": "59fa604b-82d1-4db2-f0dc-eff1bafaa986"
      },
      "outputs": [
        {
          "name": "stdout",
          "output_type": "stream",
          "text": [
            "Best Parameters: {'n_factors': 100, 'lr_all': 0.005, 'reg_all': 0.02, 'n_epochs': 20}\n",
            "Best MSE from Grid Search: 3.2080563513086418\n",
            "MSE: 2.6799\n",
            "Validation MSE with Tuned SVD++: 2.6799461445187642\n"
          ]
        }
      ],
      "source": [
        "# Define parameter grid for SVD++\n",
        "param_grid = {\n",
        "    'n_factors': [20, 50, 100],  # Number of latent factors\n",
        "    'lr_all': [0.002, 0.005],    # Learning rate\n",
        "    'reg_all': [0.02, 0.1],      # Regularization term\n",
        "    'n_epochs': [10, 20]         # Number of training epochs\n",
        "}\n",
        "\n",
        "# Instantiate GridSearchCV for SVD++\n",
        "grid_search = GridSearchCV(\n",
        "    SVDpp,\n",
        "    param_grid,\n",
        "    measures=['mse'],\n",
        "    cv=3  # 3-fold cross-validation\n",
        ")\n",
        "\n",
        "# Perform GridSearch\n",
        "train_data = Dataset.load_from_df(\n",
        "    pd.DataFrame([(d['user_id'], d['anime_uid'], d['score']) for d in ratingsTrain],\n",
        "                 columns=['user_id', 'anime_uid', 'score']),\n",
        "    reader\n",
        ")\n",
        "grid_search.fit(train_data)\n",
        "\n",
        "# Get best parameters and corresponding MSE\n",
        "best_params = grid_search.best_params['mse']\n",
        "best_score = grid_search.best_score['mse']\n",
        "\n",
        "print(f\"Best Parameters: {best_params}\")\n",
        "print(f\"Best MSE from Grid Search: {best_score}\")\n",
        "\n",
        "# Train and evaluate the best SVD++ model\n",
        "best_model = SVDpp(**best_params)\n",
        "trainset = train_data.build_full_trainset()\n",
        "best_model.fit(trainset)\n",
        "\n",
        "# Evaluate on validation data\n",
        "predictions = [best_model.predict(uid, iid, r_ui=score) for (uid, iid, score) in valid_data]\n",
        "mse_valid = accuracy.mse(predictions)\n",
        "print(f\"Validation MSE with Tuned SVD++: {mse_valid}\")"
      ]
    },
    {
      "cell_type": "code",
      "execution_count": null,
      "metadata": {
        "colab": {
          "base_uri": "https://localhost:8080/"
        },
        "id": "tdNais052m3n",
        "outputId": "a0760118-5cd6-4be1-f59a-2accb4b2fbc0"
      },
      "outputs": [
        {
          "name": "stdout",
          "output_type": "stream",
          "text": [
            "MSE: 2.6391\n",
            "Test MSE with Tuned SVD++: 2.6391037556880392\n"
          ]
        }
      ],
      "source": [
        "# Evaluate on test data\n",
        "# Convert ratingsTest into test set format\n",
        "test_data = [(d['user_id'], d['anime_uid'], d['score']) for d in ratingsTest]\n",
        "\n",
        "predictions = [best_model.predict(uid, iid, r_ui=score) for (uid, iid, score) in test_data]\n",
        "mse_test = accuracy.mse(predictions)\n",
        "print(f\"Test MSE with Tuned SVD++: {mse_test}\")"
      ]
    },
    {
      "cell_type": "markdown",
      "metadata": {
        "id": "B5hosLr1395z"
      },
      "source": [
        "# XGBoost (feature-based model)"
      ]
    },
    {
      "cell_type": "code",
      "execution_count": null,
      "metadata": {
        "colab": {
          "base_uri": "https://localhost:8080/"
        },
        "id": "Z3vGAvKl4JLw",
        "outputId": "52d60249-069a-45fd-bb33-8d0c5f89fc4e"
      },
      "outputs": [
        {
          "name": "stdout",
          "output_type": "stream",
          "text": [
            "Validation MSE: 4.175011952675504\n"
          ]
        }
      ],
      "source": [
        "import xgboost as xgb\n",
        "from sklearn.model_selection import train_test_split\n",
        "from sklearn.preprocessing import LabelEncoder\n",
        "\n",
        "# Initialize the label encoder\n",
        "label_encoder = LabelEncoder()\n",
        "\n",
        "# Encode 'gender' to numerical values in ratingsTrain\n",
        "for d in ratingsTrain:\n",
        "    if d['gender'] == 'Male':\n",
        "        d['gender'] = 0\n",
        "    elif d['gender'] == 'Female':\n",
        "        d['gender'] = 1\n",
        "    elif d['gender'] == 'Non-Binary':\n",
        "        d['gender'] = 2\n",
        "\n",
        "# Encode 'gender' to numerical values in ratingsValid\n",
        "for d in ratingsValid:\n",
        "    if d['gender'] == 'Male':\n",
        "        d['gender'] = 0\n",
        "    elif d['gender'] == 'Female':\n",
        "        d['gender'] = 1\n",
        "    elif d['gender'] == 'Non-Binary':\n",
        "        d['gender'] = 2\n",
        "\n",
        "# Encode 'gender' to numerical values in ratingsTest\n",
        "for d in ratingsTest:\n",
        "    if d['gender'] == 'Male':\n",
        "        d['gender'] = 0\n",
        "    elif d['gender'] == 'Female':\n",
        "        d['gender'] = 1\n",
        "    elif d['gender'] == 'Non-Binary':\n",
        "        d['gender'] = 2\n",
        "\n",
        "# Combine features for training set (ratingsTrain)\n",
        "X_train = [(d['age'], d['gender'], d['anime_age'], d['popularity'], d['title_length'], d['members']) for d in ratingsTrain]\n",
        "y_train = [d['score'] for d in ratingsTrain]\n",
        "\n",
        "# Combine features for validation set (ratingsValid)\n",
        "X_valid = [(d['age'], d['gender'], d['anime_age'], d['popularity'], d['title_length'], d['members']) for d in ratingsValid]\n",
        "y_valid = [d['score'] for d in ratingsValid]\n",
        "\n",
        "# Combine features for test set (ratingsTest)\n",
        "X_test = [(d['age'], d['gender'], d['anime_age'], d['popularity'], d['title_length'], d['members']) for d in ratingsTest]\n",
        "y_test = [d['score'] for d in ratingsTest]\n",
        "\n",
        "# Convert lists to numpy arrays to be compatible with XGBoost\n",
        "X_train = np.array(X_train)\n",
        "X_valid = np.array(X_valid)\n",
        "X_test = np.array(X_test)\n",
        "y_train = np.array(y_train)\n",
        "y_valid = np.array(y_valid)\n",
        "y_test = np.array(y_test)\n",
        "\n",
        "# Create and train the model\n",
        "model = xgb.XGBRegressor()\n",
        "model.fit(X_train, y_train)\n",
        "\n",
        "# Evaluate\n",
        "predictions = model.predict(X_valid)\n",
        "mse = np.mean((predictions - y_valid) ** 2)\n",
        "\n",
        "print(f'Validation MSE: {mse}')"
      ]
    },
    {
      "cell_type": "code",
      "execution_count": null,
      "metadata": {
        "colab": {
          "base_uri": "https://localhost:8080/"
        },
        "id": "Dsg27OToDdBs",
        "outputId": "a20951c4-6b38-4cfb-b6c4-5b954632eb1f"
      },
      "outputs": [
        {
          "name": "stdout",
          "output_type": "stream",
          "text": [
            "Test MSE: 4.179334748052856\n"
          ]
        }
      ],
      "source": [
        "predictions = model.predict(X_test)\n",
        "mse = np.mean((predictions - y_test) ** 2)\n",
        "\n",
        "print(f'Test MSE: {mse}')"
      ]
    },
    {
      "cell_type": "code",
      "execution_count": null,
      "metadata": {
        "colab": {
          "base_uri": "https://localhost:8080/"
        },
        "id": "0XNlWD12Q4aT",
        "outputId": "8b26b027-373f-45e3-99c2-77f281fb9f4a"
      },
      "outputs": [
        {
          "name": "stdout",
          "output_type": "stream",
          "text": [
            "Best parameters found:  {'colsample_bytree': 1.0, 'learning_rate': 0.1, 'max_depth': 7, 'n_estimators': 200, 'subsample': 0.8}\n",
            "Validation MSE with best model: 4.117431799267433\n"
          ]
        }
      ],
      "source": [
        "from sklearn.model_selection import GridSearchCV\n",
        "import xgboost as xgb\n",
        "\n",
        "# Define the XGBoost model\n",
        "model = xgb.XGBRegressor()\n",
        "\n",
        "# Hyperparameter grid to tune\n",
        "param_grid = {\n",
        "    'learning_rate': [0.01, 0.05, 0.1],\n",
        "    'max_depth': [3, 5, 7],\n",
        "    'n_estimators': [50, 100, 200],\n",
        "    'subsample': [0.8, 0.9, 1.0],\n",
        "    'colsample_bytree': [0.8, 0.9, 1.0]\n",
        "}\n",
        "\n",
        "# Perform grid search with cross-validation\n",
        "grid_search = GridSearchCV(estimator=model, param_grid=param_grid, cv=5, n_jobs=-1, scoring='neg_mean_squared_error')\n",
        "grid_search.fit(X_train, y_train)\n",
        "\n",
        "# Get the best hyperparameters\n",
        "print(\"Best parameters found: \", grid_search.best_params_)\n",
        "\n",
        "# Evaluate with best model\n",
        "best_model = grid_search.best_estimator_\n",
        "predictions = best_model.predict(X_valid)\n",
        "mse = np.mean((predictions - y_valid) ** 2)\n",
        "\n",
        "print(f'Validation MSE with best model: {mse}')"
      ]
    },
    {
      "cell_type": "code",
      "execution_count": null,
      "metadata": {
        "colab": {
          "base_uri": "https://localhost:8080/"
        },
        "id": "VoRIjuK4FFu_",
        "outputId": "8b743649-3056-44ac-ba6b-dbc7acf64412"
      },
      "outputs": [
        {
          "name": "stdout",
          "output_type": "stream",
          "text": [
            "Test MSE with best model: 4.131615844356638\n"
          ]
        }
      ],
      "source": [
        "predictions = best_model.predict(X_test)\n",
        "mse = np.mean((predictions - y_test) ** 2)\n",
        "\n",
        "print(f'Test MSE with best model: {mse}')"
      ]
    },
    {
      "cell_type": "markdown",
      "metadata": {
        "id": "ue1pimuHb1MK"
      },
      "source": [
        "# Similarity-Based Model"
      ]
    },
    {
      "cell_type": "code",
      "execution_count": null,
      "metadata": {
        "id": "3njQtQvNceUR"
      },
      "outputs": [],
      "source": [
        "userAverages = {}\n",
        "itemAverages = {}\n",
        "\n",
        "for u in animesPerUser:\n",
        "    rs = [ratingDict[(u,i)] for i in animesPerUser[u]]\n",
        "    userAverages[u] = sum(rs) / len(rs)\n",
        "\n",
        "for i in usersPerAnime:\n",
        "    rs = [ratingDict[(u,i)] for u in usersPerAnime[i]]\n",
        "    itemAverages[i] = sum(rs) / len(rs)"
      ]
    },
    {
      "cell_type": "code",
      "execution_count": null,
      "metadata": {
        "id": "MyucvbmGb3_q"
      },
      "outputs": [],
      "source": [
        "def Jaccard(s1, s2):\n",
        "    numer = len(s1.intersection(s2))\n",
        "    denom = len(s1.union(s2))\n",
        "    if denom == 0:\n",
        "        return 0\n",
        "    return numer / denom"
      ]
    },
    {
      "cell_type": "code",
      "execution_count": null,
      "metadata": {
        "id": "e-kKINMlcxiQ"
      },
      "outputs": [],
      "source": [
        "ratingMean = sum([d['score'] for d in ratingsTrain]) / len(ratingsTrain)"
      ]
    },
    {
      "cell_type": "code",
      "execution_count": null,
      "metadata": {
        "id": "e6H9Rg24cA_J"
      },
      "outputs": [],
      "source": [
        "def predictRating(user, item):\n",
        "    ratings = []\n",
        "    similarities = []\n",
        "\n",
        "    # Get users who rated the item and compute similarities\n",
        "    for d in ratingsPerUser[user]:\n",
        "        i2, _ = d\n",
        "        if i2 == item: continue  # Skip if the item being predicted is the same as the rated item\n",
        "\n",
        "        # Normalize ratings by subtracting item averages\n",
        "        ratings.append(d[1] - ratingDict.get((user, i2), ratingMean))  # Rating difference with item average\n",
        "        similarities.append(Jaccard(usersPerAnime[item], usersPerAnime[i2]))  # Jaccard similarity between users' rated animes\n",
        "\n",
        "    # If there are similarities, compute the weighted average of ratings\n",
        "    if sum(similarities) > 0:\n",
        "        weightedRatings = [r * s for r, s in zip(ratings, similarities)]\n",
        "        return ratingDict.get((user, item), ratingMean) + np.sum(weightedRatings) / np.sum(similarities)\n",
        "    else:\n",
        "        # If no similarities found, return the mean rating\n",
        "        return ratingMean"
      ]
    },
    {
      "cell_type": "code",
      "execution_count": null,
      "metadata": {
        "id": "dhtQCe8Bc6nu"
      },
      "outputs": [],
      "source": [
        "def MSE(predictions, labels):\n",
        "    differences = [(x-y)**2 for x,y in zip(predictions,labels)]\n",
        "    return sum(differences) / len(differences)"
      ]
    },
    {
      "cell_type": "code",
      "execution_count": null,
      "metadata": {
        "colab": {
          "base_uri": "https://localhost:8080/"
        },
        "id": "4JMZ8dO4jqIP",
        "outputId": "3cc9d478-d361-4f64-8b85-3967a444da1e"
      },
      "outputs": [
        {
          "name": "stdout",
          "output_type": "stream",
          "text": [
            "Validation MSE: 3.8722849881550294\n"
          ]
        }
      ],
      "source": [
        "# Predict ratings for ratingsValid using the trained collaborative filtering model\n",
        "predictions = []\n",
        "actuals = []\n",
        "\n",
        "for d in ratingsValid:\n",
        "    user = d['user_id']\n",
        "    item = d['anime_uid']\n",
        "    actual_rating = d['score']\n",
        "\n",
        "    predicted_rating = predictRating(user, item)  # Your function to predict ratings\n",
        "\n",
        "    predictions.append(predicted_rating)\n",
        "    actuals.append(actual_rating)\n",
        "\n",
        "# Calculate MSE\n",
        "mse = np.mean((np.array(predictions) - np.array(actuals)) ** 2)\n",
        "print(f'Validation MSE: {mse}')"
      ]
    },
    {
      "cell_type": "code",
      "execution_count": null,
      "metadata": {
        "colab": {
          "base_uri": "https://localhost:8080/"
        },
        "id": "u5oUzXhjELw1",
        "outputId": "dee718d9-4cf9-46e3-8df5-3d49c1cd153f"
      },
      "outputs": [
        {
          "name": "stdout",
          "output_type": "stream",
          "text": [
            "Validation MSE: 3.81332522043406\n"
          ]
        }
      ],
      "source": [
        "# Predict ratings for ratingsTest using the trained collaborative filtering model\n",
        "predictions = []\n",
        "actuals = []\n",
        "\n",
        "for d in ratingsTest:\n",
        "    user = d['user_id']\n",
        "    item = d['anime_uid']\n",
        "    actual_rating = d['score']\n",
        "\n",
        "    predicted_rating = predictRating(user, item)  # Your function to predict ratings\n",
        "\n",
        "    predictions.append(predicted_rating)\n",
        "    actuals.append(actual_rating)\n",
        "\n",
        "# Calculate MSE\n",
        "mse = np.mean((np.array(predictions) - np.array(actuals)) ** 2)\n",
        "print(f'Test MSE: {mse}')"
      ]
    },
    {
      "cell_type": "code",
      "execution_count": null,
      "metadata": {
        "id": "xvWizX1tc9lz"
      },
      "outputs": [],
      "source": [
        "# simPredictions = [predictRating(d['user_id'], d['anime_uid']) for d in ratingsValid]\n",
        "# labels = [d['score'] for d in ratingsValid]\n",
        "\n",
        "# mse = MSE(simPredictions, labels)\n",
        "# print(f'Validation MSE: {mse}')"
      ]
    }
  ],
  "metadata": {
    "colab": {
      "provenance": []
    },
    "kernelspec": {
      "display_name": "Python 3",
      "name": "python3"
    },
    "language_info": {
      "name": "python"
    }
  },
  "nbformat": 4,
  "nbformat_minor": 0
}